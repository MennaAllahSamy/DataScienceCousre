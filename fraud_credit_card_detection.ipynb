{
 "cells": [
  {
   "cell_type": "markdown",
   "id": "4327ecff",
   "metadata": {},
   "source": [
    "# Credit Card Fraud Detection Project\n"
   ]
  },
  {
   "cell_type": "markdown",
   "id": "b995a91b",
   "metadata": {},
   "source": [
    "![image.png](attachment:image.png)"
   ]
  },
  {
   "cell_type": "markdown",
   "id": "e4598774",
   "metadata": {},
   "source": [
    "## First step: Imports"
   ]
  },
  {
   "cell_type": "code",
   "execution_count": 1,
   "id": "5ccb1e6d",
   "metadata": {},
   "outputs": [],
   "source": [
    "# Import the libraries i need to use\n",
    "from __future__ import print_function\n",
    "import numpy as np\n",
    "import pandas as pd\n",
    "\n",
    "import matplotlib.pyplot as plt\n",
    "%matplotlib inline\n",
    "import seaborn as sns\n",
    "import plotly.express as px\n",
    "\n",
    "from sklearn.model_selection import train_test_split\n",
    "from sklearn.preprocessing import normalize, StandardScaler\n",
    "from sklearn.utils.class_weight import compute_sample_weight\n",
    "from sklearn.metrics import roc_auc_score\n",
    "\n",
    "import time\n",
    "import warnings\n",
    "warnings.filterwarnings('ignore')"
   ]
  },
  {
   "cell_type": "markdown",
   "id": "243df8c5",
   "metadata": {},
   "source": [
    "## Second step: Reading Dataset"
   ]
  },
  {
   "cell_type": "code",
   "execution_count": 4,
   "id": "f9754b72",
   "metadata": {},
   "outputs": [],
   "source": [
    "df_train=pd.read_csv(r\"E:\\fraud credit card dataset\\fraudTrain.csv\")\n",
    "\n",
    "df_test=pd.read_csv(r\"E:\\fraud credit card dataset\\fraudTest.csv\")"
   ]
  },
  {
   "cell_type": "code",
   "execution_count": 5,
   "id": "3cff1bf1",
   "metadata": {},
   "outputs": [
    {
     "data": {
      "text/html": [
       "<div>\n",
       "<style scoped>\n",
       "    .dataframe tbody tr th:only-of-type {\n",
       "        vertical-align: middle;\n",
       "    }\n",
       "\n",
       "    .dataframe tbody tr th {\n",
       "        vertical-align: top;\n",
       "    }\n",
       "\n",
       "    .dataframe thead th {\n",
       "        text-align: right;\n",
       "    }\n",
       "</style>\n",
       "<table border=\"1\" class=\"dataframe\">\n",
       "  <thead>\n",
       "    <tr style=\"text-align: right;\">\n",
       "      <th></th>\n",
       "      <th>Unnamed: 0</th>\n",
       "      <th>trans_date_trans_time</th>\n",
       "      <th>cc_num</th>\n",
       "      <th>merchant</th>\n",
       "      <th>category</th>\n",
       "      <th>amt</th>\n",
       "      <th>first</th>\n",
       "      <th>last</th>\n",
       "      <th>gender</th>\n",
       "      <th>street</th>\n",
       "      <th>...</th>\n",
       "      <th>lat</th>\n",
       "      <th>long</th>\n",
       "      <th>city_pop</th>\n",
       "      <th>job</th>\n",
       "      <th>dob</th>\n",
       "      <th>trans_num</th>\n",
       "      <th>unix_time</th>\n",
       "      <th>merch_lat</th>\n",
       "      <th>merch_long</th>\n",
       "      <th>is_fraud</th>\n",
       "    </tr>\n",
       "  </thead>\n",
       "  <tbody>\n",
       "    <tr>\n",
       "      <th>0</th>\n",
       "      <td>0</td>\n",
       "      <td>2019-01-01 00:00:18</td>\n",
       "      <td>2703186189652095</td>\n",
       "      <td>fraud_Rippin, Kub and Mann</td>\n",
       "      <td>misc_net</td>\n",
       "      <td>4.97</td>\n",
       "      <td>Jennifer</td>\n",
       "      <td>Banks</td>\n",
       "      <td>F</td>\n",
       "      <td>561 Perry Cove</td>\n",
       "      <td>...</td>\n",
       "      <td>36.0788</td>\n",
       "      <td>-81.1781</td>\n",
       "      <td>3495</td>\n",
       "      <td>Psychologist, counselling</td>\n",
       "      <td>1988-03-09</td>\n",
       "      <td>0b242abb623afc578575680df30655b9</td>\n",
       "      <td>1325376018</td>\n",
       "      <td>36.011293</td>\n",
       "      <td>-82.048315</td>\n",
       "      <td>0</td>\n",
       "    </tr>\n",
       "    <tr>\n",
       "      <th>1</th>\n",
       "      <td>1</td>\n",
       "      <td>2019-01-01 00:00:44</td>\n",
       "      <td>630423337322</td>\n",
       "      <td>fraud_Heller, Gutmann and Zieme</td>\n",
       "      <td>grocery_pos</td>\n",
       "      <td>107.23</td>\n",
       "      <td>Stephanie</td>\n",
       "      <td>Gill</td>\n",
       "      <td>F</td>\n",
       "      <td>43039 Riley Greens Suite 393</td>\n",
       "      <td>...</td>\n",
       "      <td>48.8878</td>\n",
       "      <td>-118.2105</td>\n",
       "      <td>149</td>\n",
       "      <td>Special educational needs teacher</td>\n",
       "      <td>1978-06-21</td>\n",
       "      <td>1f76529f8574734946361c461b024d99</td>\n",
       "      <td>1325376044</td>\n",
       "      <td>49.159047</td>\n",
       "      <td>-118.186462</td>\n",
       "      <td>0</td>\n",
       "    </tr>\n",
       "    <tr>\n",
       "      <th>2</th>\n",
       "      <td>2</td>\n",
       "      <td>2019-01-01 00:00:51</td>\n",
       "      <td>38859492057661</td>\n",
       "      <td>fraud_Lind-Buckridge</td>\n",
       "      <td>entertainment</td>\n",
       "      <td>220.11</td>\n",
       "      <td>Edward</td>\n",
       "      <td>Sanchez</td>\n",
       "      <td>M</td>\n",
       "      <td>594 White Dale Suite 530</td>\n",
       "      <td>...</td>\n",
       "      <td>42.1808</td>\n",
       "      <td>-112.2620</td>\n",
       "      <td>4154</td>\n",
       "      <td>Nature conservation officer</td>\n",
       "      <td>1962-01-19</td>\n",
       "      <td>a1a22d70485983eac12b5b88dad1cf95</td>\n",
       "      <td>1325376051</td>\n",
       "      <td>43.150704</td>\n",
       "      <td>-112.154481</td>\n",
       "      <td>0</td>\n",
       "    </tr>\n",
       "  </tbody>\n",
       "</table>\n",
       "<p>3 rows × 23 columns</p>\n",
       "</div>"
      ],
      "text/plain": [
       "   Unnamed: 0 trans_date_trans_time            cc_num  \\\n",
       "0           0   2019-01-01 00:00:18  2703186189652095   \n",
       "1           1   2019-01-01 00:00:44      630423337322   \n",
       "2           2   2019-01-01 00:00:51    38859492057661   \n",
       "\n",
       "                          merchant       category     amt      first     last  \\\n",
       "0       fraud_Rippin, Kub and Mann       misc_net    4.97   Jennifer    Banks   \n",
       "1  fraud_Heller, Gutmann and Zieme    grocery_pos  107.23  Stephanie     Gill   \n",
       "2             fraud_Lind-Buckridge  entertainment  220.11     Edward  Sanchez   \n",
       "\n",
       "  gender                        street  ...      lat      long  city_pop  \\\n",
       "0      F                561 Perry Cove  ...  36.0788  -81.1781      3495   \n",
       "1      F  43039 Riley Greens Suite 393  ...  48.8878 -118.2105       149   \n",
       "2      M      594 White Dale Suite 530  ...  42.1808 -112.2620      4154   \n",
       "\n",
       "                                 job         dob  \\\n",
       "0          Psychologist, counselling  1988-03-09   \n",
       "1  Special educational needs teacher  1978-06-21   \n",
       "2        Nature conservation officer  1962-01-19   \n",
       "\n",
       "                          trans_num   unix_time  merch_lat  merch_long  \\\n",
       "0  0b242abb623afc578575680df30655b9  1325376018  36.011293  -82.048315   \n",
       "1  1f76529f8574734946361c461b024d99  1325376044  49.159047 -118.186462   \n",
       "2  a1a22d70485983eac12b5b88dad1cf95  1325376051  43.150704 -112.154481   \n",
       "\n",
       "   is_fraud  \n",
       "0         0  \n",
       "1         0  \n",
       "2         0  \n",
       "\n",
       "[3 rows x 23 columns]"
      ]
     },
     "execution_count": 5,
     "metadata": {},
     "output_type": "execute_result"
    }
   ],
   "source": [
    "df_train.head(3)"
   ]
  },
  {
   "cell_type": "code",
   "execution_count": 6,
   "id": "9cd7158f",
   "metadata": {},
   "outputs": [
    {
     "data": {
      "text/html": [
       "<div>\n",
       "<style scoped>\n",
       "    .dataframe tbody tr th:only-of-type {\n",
       "        vertical-align: middle;\n",
       "    }\n",
       "\n",
       "    .dataframe tbody tr th {\n",
       "        vertical-align: top;\n",
       "    }\n",
       "\n",
       "    .dataframe thead th {\n",
       "        text-align: right;\n",
       "    }\n",
       "</style>\n",
       "<table border=\"1\" class=\"dataframe\">\n",
       "  <thead>\n",
       "    <tr style=\"text-align: right;\">\n",
       "      <th></th>\n",
       "      <th>Unnamed: 0</th>\n",
       "      <th>trans_date_trans_time</th>\n",
       "      <th>cc_num</th>\n",
       "      <th>merchant</th>\n",
       "      <th>category</th>\n",
       "      <th>amt</th>\n",
       "      <th>first</th>\n",
       "      <th>last</th>\n",
       "      <th>gender</th>\n",
       "      <th>street</th>\n",
       "      <th>...</th>\n",
       "      <th>lat</th>\n",
       "      <th>long</th>\n",
       "      <th>city_pop</th>\n",
       "      <th>job</th>\n",
       "      <th>dob</th>\n",
       "      <th>trans_num</th>\n",
       "      <th>unix_time</th>\n",
       "      <th>merch_lat</th>\n",
       "      <th>merch_long</th>\n",
       "      <th>is_fraud</th>\n",
       "    </tr>\n",
       "  </thead>\n",
       "  <tbody>\n",
       "    <tr>\n",
       "      <th>0</th>\n",
       "      <td>0</td>\n",
       "      <td>2020-06-21 12:14:25</td>\n",
       "      <td>2291163933867244</td>\n",
       "      <td>fraud_Kirlin and Sons</td>\n",
       "      <td>personal_care</td>\n",
       "      <td>2.86</td>\n",
       "      <td>Jeff</td>\n",
       "      <td>Elliott</td>\n",
       "      <td>M</td>\n",
       "      <td>351 Darlene Green</td>\n",
       "      <td>...</td>\n",
       "      <td>33.9659</td>\n",
       "      <td>-80.9355</td>\n",
       "      <td>333497</td>\n",
       "      <td>Mechanical engineer</td>\n",
       "      <td>1968-03-19</td>\n",
       "      <td>2da90c7d74bd46a0caf3777415b3ebd3</td>\n",
       "      <td>1371816865</td>\n",
       "      <td>33.986391</td>\n",
       "      <td>-81.200714</td>\n",
       "      <td>0</td>\n",
       "    </tr>\n",
       "    <tr>\n",
       "      <th>1</th>\n",
       "      <td>1</td>\n",
       "      <td>2020-06-21 12:14:33</td>\n",
       "      <td>3573030041201292</td>\n",
       "      <td>fraud_Sporer-Keebler</td>\n",
       "      <td>personal_care</td>\n",
       "      <td>29.84</td>\n",
       "      <td>Joanne</td>\n",
       "      <td>Williams</td>\n",
       "      <td>F</td>\n",
       "      <td>3638 Marsh Union</td>\n",
       "      <td>...</td>\n",
       "      <td>40.3207</td>\n",
       "      <td>-110.4360</td>\n",
       "      <td>302</td>\n",
       "      <td>Sales professional, IT</td>\n",
       "      <td>1990-01-17</td>\n",
       "      <td>324cc204407e99f51b0d6ca0055005e7</td>\n",
       "      <td>1371816873</td>\n",
       "      <td>39.450498</td>\n",
       "      <td>-109.960431</td>\n",
       "      <td>0</td>\n",
       "    </tr>\n",
       "    <tr>\n",
       "      <th>2</th>\n",
       "      <td>2</td>\n",
       "      <td>2020-06-21 12:14:53</td>\n",
       "      <td>3598215285024754</td>\n",
       "      <td>fraud_Swaniawski, Nitzsche and Welch</td>\n",
       "      <td>health_fitness</td>\n",
       "      <td>41.28</td>\n",
       "      <td>Ashley</td>\n",
       "      <td>Lopez</td>\n",
       "      <td>F</td>\n",
       "      <td>9333 Valentine Point</td>\n",
       "      <td>...</td>\n",
       "      <td>40.6729</td>\n",
       "      <td>-73.5365</td>\n",
       "      <td>34496</td>\n",
       "      <td>Librarian, public</td>\n",
       "      <td>1970-10-21</td>\n",
       "      <td>c81755dbbbea9d5c77f094348a7579be</td>\n",
       "      <td>1371816893</td>\n",
       "      <td>40.495810</td>\n",
       "      <td>-74.196111</td>\n",
       "      <td>0</td>\n",
       "    </tr>\n",
       "  </tbody>\n",
       "</table>\n",
       "<p>3 rows × 23 columns</p>\n",
       "</div>"
      ],
      "text/plain": [
       "   Unnamed: 0 trans_date_trans_time            cc_num  \\\n",
       "0           0   2020-06-21 12:14:25  2291163933867244   \n",
       "1           1   2020-06-21 12:14:33  3573030041201292   \n",
       "2           2   2020-06-21 12:14:53  3598215285024754   \n",
       "\n",
       "                               merchant        category    amt   first  \\\n",
       "0                 fraud_Kirlin and Sons   personal_care   2.86    Jeff   \n",
       "1                  fraud_Sporer-Keebler   personal_care  29.84  Joanne   \n",
       "2  fraud_Swaniawski, Nitzsche and Welch  health_fitness  41.28  Ashley   \n",
       "\n",
       "       last gender                street  ...      lat      long  city_pop  \\\n",
       "0   Elliott      M     351 Darlene Green  ...  33.9659  -80.9355    333497   \n",
       "1  Williams      F      3638 Marsh Union  ...  40.3207 -110.4360       302   \n",
       "2     Lopez      F  9333 Valentine Point  ...  40.6729  -73.5365     34496   \n",
       "\n",
       "                      job         dob                         trans_num  \\\n",
       "0     Mechanical engineer  1968-03-19  2da90c7d74bd46a0caf3777415b3ebd3   \n",
       "1  Sales professional, IT  1990-01-17  324cc204407e99f51b0d6ca0055005e7   \n",
       "2       Librarian, public  1970-10-21  c81755dbbbea9d5c77f094348a7579be   \n",
       "\n",
       "    unix_time  merch_lat  merch_long  is_fraud  \n",
       "0  1371816865  33.986391  -81.200714         0  \n",
       "1  1371816873  39.450498 -109.960431         0  \n",
       "2  1371816893  40.495810  -74.196111         0  \n",
       "\n",
       "[3 rows x 23 columns]"
      ]
     },
     "execution_count": 6,
     "metadata": {},
     "output_type": "execute_result"
    }
   ],
   "source": [
    "df_test.head(3)"
   ]
  },
  {
   "cell_type": "code",
   "execution_count": 7,
   "id": "85f7ff26",
   "metadata": {},
   "outputs": [
    {
     "data": {
      "text/plain": [
       "(1296675, 23)"
      ]
     },
     "execution_count": 7,
     "metadata": {},
     "output_type": "execute_result"
    }
   ],
   "source": [
    "df_train.shape"
   ]
  },
  {
   "cell_type": "code",
   "execution_count": 8,
   "id": "98b02763",
   "metadata": {},
   "outputs": [
    {
     "data": {
      "text/plain": [
       "(555719, 23)"
      ]
     },
     "execution_count": 8,
     "metadata": {},
     "output_type": "execute_result"
    }
   ],
   "source": [
    "df_test.shape"
   ]
  },
  {
   "cell_type": "code",
   "execution_count": 9,
   "id": "452a959c",
   "metadata": {},
   "outputs": [
    {
     "data": {
      "text/plain": [
       "['Unnamed: 0',\n",
       " 'trans_date_trans_time',\n",
       " 'cc_num',\n",
       " 'merchant',\n",
       " 'category',\n",
       " 'amt',\n",
       " 'first',\n",
       " 'last',\n",
       " 'gender',\n",
       " 'street',\n",
       " 'city',\n",
       " 'state',\n",
       " 'zip',\n",
       " 'lat',\n",
       " 'long',\n",
       " 'city_pop',\n",
       " 'job',\n",
       " 'dob',\n",
       " 'trans_num',\n",
       " 'unix_time',\n",
       " 'merch_lat',\n",
       " 'merch_long',\n",
       " 'is_fraud']"
      ]
     },
     "execution_count": 9,
     "metadata": {},
     "output_type": "execute_result"
    }
   ],
   "source": [
    "df_train.columns.tolist()"
   ]
  },
  {
   "cell_type": "markdown",
   "id": "e87cf670",
   "metadata": {},
   "source": [
    "## Third step: Data preprocessing:"
   ]
  },
  {
   "cell_type": "code",
   "execution_count": 10,
   "id": "49734edc",
   "metadata": {},
   "outputs": [
    {
     "name": "stdout",
     "output_type": "stream",
     "text": [
      "<class 'pandas.core.frame.DataFrame'>\n",
      "RangeIndex: 1296675 entries, 0 to 1296674\n",
      "Data columns (total 23 columns):\n",
      " #   Column                 Non-Null Count    Dtype  \n",
      "---  ------                 --------------    -----  \n",
      " 0   Unnamed: 0             1296675 non-null  int64  \n",
      " 1   trans_date_trans_time  1296675 non-null  object \n",
      " 2   cc_num                 1296675 non-null  int64  \n",
      " 3   merchant               1296675 non-null  object \n",
      " 4   category               1296675 non-null  object \n",
      " 5   amt                    1296675 non-null  float64\n",
      " 6   first                  1296675 non-null  object \n",
      " 7   last                   1296675 non-null  object \n",
      " 8   gender                 1296675 non-null  object \n",
      " 9   street                 1296675 non-null  object \n",
      " 10  city                   1296675 non-null  object \n",
      " 11  state                  1296675 non-null  object \n",
      " 12  zip                    1296675 non-null  int64  \n",
      " 13  lat                    1296675 non-null  float64\n",
      " 14  long                   1296675 non-null  float64\n",
      " 15  city_pop               1296675 non-null  int64  \n",
      " 16  job                    1296675 non-null  object \n",
      " 17  dob                    1296675 non-null  object \n",
      " 18  trans_num              1296675 non-null  object \n",
      " 19  unix_time              1296675 non-null  int64  \n",
      " 20  merch_lat              1296675 non-null  float64\n",
      " 21  merch_long             1296675 non-null  float64\n",
      " 22  is_fraud               1296675 non-null  int64  \n",
      "dtypes: float64(5), int64(6), object(12)\n",
      "memory usage: 227.5+ MB\n"
     ]
    }
   ],
   "source": [
    "df_train.info()"
   ]
  },
  {
   "cell_type": "code",
   "execution_count": 11,
   "id": "6ce2a9ad",
   "metadata": {},
   "outputs": [
    {
     "name": "stdout",
     "output_type": "stream",
     "text": [
      "<class 'pandas.core.frame.DataFrame'>\n",
      "RangeIndex: 555719 entries, 0 to 555718\n",
      "Data columns (total 23 columns):\n",
      " #   Column                 Non-Null Count   Dtype  \n",
      "---  ------                 --------------   -----  \n",
      " 0   Unnamed: 0             555719 non-null  int64  \n",
      " 1   trans_date_trans_time  555719 non-null  object \n",
      " 2   cc_num                 555719 non-null  int64  \n",
      " 3   merchant               555719 non-null  object \n",
      " 4   category               555719 non-null  object \n",
      " 5   amt                    555719 non-null  float64\n",
      " 6   first                  555719 non-null  object \n",
      " 7   last                   555719 non-null  object \n",
      " 8   gender                 555719 non-null  object \n",
      " 9   street                 555719 non-null  object \n",
      " 10  city                   555719 non-null  object \n",
      " 11  state                  555719 non-null  object \n",
      " 12  zip                    555719 non-null  int64  \n",
      " 13  lat                    555719 non-null  float64\n",
      " 14  long                   555719 non-null  float64\n",
      " 15  city_pop               555719 non-null  int64  \n",
      " 16  job                    555719 non-null  object \n",
      " 17  dob                    555719 non-null  object \n",
      " 18  trans_num              555719 non-null  object \n",
      " 19  unix_time              555719 non-null  int64  \n",
      " 20  merch_lat              555719 non-null  float64\n",
      " 21  merch_long             555719 non-null  float64\n",
      " 22  is_fraud               555719 non-null  int64  \n",
      "dtypes: float64(5), int64(6), object(12)\n",
      "memory usage: 97.5+ MB\n"
     ]
    }
   ],
   "source": [
    "df_test.info()"
   ]
  },
  {
   "cell_type": "code",
   "execution_count": 12,
   "id": "8d6cd9ac",
   "metadata": {},
   "outputs": [
    {
     "data": {
      "text/html": [
       "<div>\n",
       "<style scoped>\n",
       "    .dataframe tbody tr th:only-of-type {\n",
       "        vertical-align: middle;\n",
       "    }\n",
       "\n",
       "    .dataframe tbody tr th {\n",
       "        vertical-align: top;\n",
       "    }\n",
       "\n",
       "    .dataframe thead th {\n",
       "        text-align: right;\n",
       "    }\n",
       "</style>\n",
       "<table border=\"1\" class=\"dataframe\">\n",
       "  <thead>\n",
       "    <tr style=\"text-align: right;\">\n",
       "      <th></th>\n",
       "      <th>Unnamed: 0</th>\n",
       "      <th>cc_num</th>\n",
       "      <th>amt</th>\n",
       "      <th>zip</th>\n",
       "      <th>lat</th>\n",
       "      <th>long</th>\n",
       "      <th>city_pop</th>\n",
       "      <th>unix_time</th>\n",
       "      <th>merch_lat</th>\n",
       "      <th>merch_long</th>\n",
       "      <th>is_fraud</th>\n",
       "    </tr>\n",
       "  </thead>\n",
       "  <tbody>\n",
       "    <tr>\n",
       "      <th>count</th>\n",
       "      <td>1.296675e+06</td>\n",
       "      <td>1.296675e+06</td>\n",
       "      <td>1.296675e+06</td>\n",
       "      <td>1.296675e+06</td>\n",
       "      <td>1.296675e+06</td>\n",
       "      <td>1.296675e+06</td>\n",
       "      <td>1.296675e+06</td>\n",
       "      <td>1.296675e+06</td>\n",
       "      <td>1.296675e+06</td>\n",
       "      <td>1.296675e+06</td>\n",
       "      <td>1.296675e+06</td>\n",
       "    </tr>\n",
       "    <tr>\n",
       "      <th>mean</th>\n",
       "      <td>6.483370e+05</td>\n",
       "      <td>4.171920e+17</td>\n",
       "      <td>7.035104e+01</td>\n",
       "      <td>4.880067e+04</td>\n",
       "      <td>3.853762e+01</td>\n",
       "      <td>-9.022634e+01</td>\n",
       "      <td>8.882444e+04</td>\n",
       "      <td>1.349244e+09</td>\n",
       "      <td>3.853734e+01</td>\n",
       "      <td>-9.022646e+01</td>\n",
       "      <td>5.788652e-03</td>\n",
       "    </tr>\n",
       "    <tr>\n",
       "      <th>std</th>\n",
       "      <td>3.743180e+05</td>\n",
       "      <td>1.308806e+18</td>\n",
       "      <td>1.603160e+02</td>\n",
       "      <td>2.689322e+04</td>\n",
       "      <td>5.075808e+00</td>\n",
       "      <td>1.375908e+01</td>\n",
       "      <td>3.019564e+05</td>\n",
       "      <td>1.284128e+07</td>\n",
       "      <td>5.109788e+00</td>\n",
       "      <td>1.377109e+01</td>\n",
       "      <td>7.586269e-02</td>\n",
       "    </tr>\n",
       "    <tr>\n",
       "      <th>min</th>\n",
       "      <td>0.000000e+00</td>\n",
       "      <td>6.041621e+10</td>\n",
       "      <td>1.000000e+00</td>\n",
       "      <td>1.257000e+03</td>\n",
       "      <td>2.002710e+01</td>\n",
       "      <td>-1.656723e+02</td>\n",
       "      <td>2.300000e+01</td>\n",
       "      <td>1.325376e+09</td>\n",
       "      <td>1.902779e+01</td>\n",
       "      <td>-1.666712e+02</td>\n",
       "      <td>0.000000e+00</td>\n",
       "    </tr>\n",
       "    <tr>\n",
       "      <th>25%</th>\n",
       "      <td>3.241685e+05</td>\n",
       "      <td>1.800429e+14</td>\n",
       "      <td>9.650000e+00</td>\n",
       "      <td>2.623700e+04</td>\n",
       "      <td>3.462050e+01</td>\n",
       "      <td>-9.679800e+01</td>\n",
       "      <td>7.430000e+02</td>\n",
       "      <td>1.338751e+09</td>\n",
       "      <td>3.473357e+01</td>\n",
       "      <td>-9.689728e+01</td>\n",
       "      <td>0.000000e+00</td>\n",
       "    </tr>\n",
       "    <tr>\n",
       "      <th>50%</th>\n",
       "      <td>6.483370e+05</td>\n",
       "      <td>3.521417e+15</td>\n",
       "      <td>4.752000e+01</td>\n",
       "      <td>4.817400e+04</td>\n",
       "      <td>3.935430e+01</td>\n",
       "      <td>-8.747690e+01</td>\n",
       "      <td>2.456000e+03</td>\n",
       "      <td>1.349250e+09</td>\n",
       "      <td>3.936568e+01</td>\n",
       "      <td>-8.743839e+01</td>\n",
       "      <td>0.000000e+00</td>\n",
       "    </tr>\n",
       "    <tr>\n",
       "      <th>75%</th>\n",
       "      <td>9.725055e+05</td>\n",
       "      <td>4.642255e+15</td>\n",
       "      <td>8.314000e+01</td>\n",
       "      <td>7.204200e+04</td>\n",
       "      <td>4.194040e+01</td>\n",
       "      <td>-8.015800e+01</td>\n",
       "      <td>2.032800e+04</td>\n",
       "      <td>1.359385e+09</td>\n",
       "      <td>4.195716e+01</td>\n",
       "      <td>-8.023680e+01</td>\n",
       "      <td>0.000000e+00</td>\n",
       "    </tr>\n",
       "    <tr>\n",
       "      <th>max</th>\n",
       "      <td>1.296674e+06</td>\n",
       "      <td>4.992346e+18</td>\n",
       "      <td>2.894890e+04</td>\n",
       "      <td>9.978300e+04</td>\n",
       "      <td>6.669330e+01</td>\n",
       "      <td>-6.795030e+01</td>\n",
       "      <td>2.906700e+06</td>\n",
       "      <td>1.371817e+09</td>\n",
       "      <td>6.751027e+01</td>\n",
       "      <td>-6.695090e+01</td>\n",
       "      <td>1.000000e+00</td>\n",
       "    </tr>\n",
       "  </tbody>\n",
       "</table>\n",
       "</div>"
      ],
      "text/plain": [
       "         Unnamed: 0        cc_num           amt           zip           lat  \\\n",
       "count  1.296675e+06  1.296675e+06  1.296675e+06  1.296675e+06  1.296675e+06   \n",
       "mean   6.483370e+05  4.171920e+17  7.035104e+01  4.880067e+04  3.853762e+01   \n",
       "std    3.743180e+05  1.308806e+18  1.603160e+02  2.689322e+04  5.075808e+00   \n",
       "min    0.000000e+00  6.041621e+10  1.000000e+00  1.257000e+03  2.002710e+01   \n",
       "25%    3.241685e+05  1.800429e+14  9.650000e+00  2.623700e+04  3.462050e+01   \n",
       "50%    6.483370e+05  3.521417e+15  4.752000e+01  4.817400e+04  3.935430e+01   \n",
       "75%    9.725055e+05  4.642255e+15  8.314000e+01  7.204200e+04  4.194040e+01   \n",
       "max    1.296674e+06  4.992346e+18  2.894890e+04  9.978300e+04  6.669330e+01   \n",
       "\n",
       "               long      city_pop     unix_time     merch_lat    merch_long  \\\n",
       "count  1.296675e+06  1.296675e+06  1.296675e+06  1.296675e+06  1.296675e+06   \n",
       "mean  -9.022634e+01  8.882444e+04  1.349244e+09  3.853734e+01 -9.022646e+01   \n",
       "std    1.375908e+01  3.019564e+05  1.284128e+07  5.109788e+00  1.377109e+01   \n",
       "min   -1.656723e+02  2.300000e+01  1.325376e+09  1.902779e+01 -1.666712e+02   \n",
       "25%   -9.679800e+01  7.430000e+02  1.338751e+09  3.473357e+01 -9.689728e+01   \n",
       "50%   -8.747690e+01  2.456000e+03  1.349250e+09  3.936568e+01 -8.743839e+01   \n",
       "75%   -8.015800e+01  2.032800e+04  1.359385e+09  4.195716e+01 -8.023680e+01   \n",
       "max   -6.795030e+01  2.906700e+06  1.371817e+09  6.751027e+01 -6.695090e+01   \n",
       "\n",
       "           is_fraud  \n",
       "count  1.296675e+06  \n",
       "mean   5.788652e-03  \n",
       "std    7.586269e-02  \n",
       "min    0.000000e+00  \n",
       "25%    0.000000e+00  \n",
       "50%    0.000000e+00  \n",
       "75%    0.000000e+00  \n",
       "max    1.000000e+00  "
      ]
     },
     "execution_count": 12,
     "metadata": {},
     "output_type": "execute_result"
    }
   ],
   "source": [
    "df_train.describe()"
   ]
  },
  {
   "cell_type": "code",
   "execution_count": 20,
   "id": "34b5a042",
   "metadata": {},
   "outputs": [
    {
     "data": {
      "text/html": [
       "<div>\n",
       "<style scoped>\n",
       "    .dataframe tbody tr th:only-of-type {\n",
       "        vertical-align: middle;\n",
       "    }\n",
       "\n",
       "    .dataframe tbody tr th {\n",
       "        vertical-align: top;\n",
       "    }\n",
       "\n",
       "    .dataframe thead th {\n",
       "        text-align: right;\n",
       "    }\n",
       "</style>\n",
       "<table border=\"1\" class=\"dataframe\">\n",
       "  <thead>\n",
       "    <tr style=\"text-align: right;\">\n",
       "      <th></th>\n",
       "      <th>trans_date_trans_time</th>\n",
       "      <th>merchant</th>\n",
       "      <th>category</th>\n",
       "      <th>first</th>\n",
       "      <th>last</th>\n",
       "      <th>gender</th>\n",
       "      <th>street</th>\n",
       "      <th>city</th>\n",
       "      <th>state</th>\n",
       "      <th>job</th>\n",
       "      <th>dob</th>\n",
       "      <th>trans_num</th>\n",
       "    </tr>\n",
       "  </thead>\n",
       "  <tbody>\n",
       "    <tr>\n",
       "      <th>count</th>\n",
       "      <td>1296675</td>\n",
       "      <td>1296675</td>\n",
       "      <td>1296675</td>\n",
       "      <td>1296675</td>\n",
       "      <td>1296675</td>\n",
       "      <td>1296675</td>\n",
       "      <td>1296675</td>\n",
       "      <td>1296675</td>\n",
       "      <td>1296675</td>\n",
       "      <td>1296675</td>\n",
       "      <td>1296675</td>\n",
       "      <td>1296675</td>\n",
       "    </tr>\n",
       "    <tr>\n",
       "      <th>unique</th>\n",
       "      <td>1274791</td>\n",
       "      <td>693</td>\n",
       "      <td>14</td>\n",
       "      <td>352</td>\n",
       "      <td>481</td>\n",
       "      <td>2</td>\n",
       "      <td>983</td>\n",
       "      <td>894</td>\n",
       "      <td>51</td>\n",
       "      <td>494</td>\n",
       "      <td>968</td>\n",
       "      <td>1296675</td>\n",
       "    </tr>\n",
       "    <tr>\n",
       "      <th>top</th>\n",
       "      <td>2019-04-22 16:02:01</td>\n",
       "      <td>fraud_Kilback LLC</td>\n",
       "      <td>gas_transport</td>\n",
       "      <td>Christopher</td>\n",
       "      <td>Smith</td>\n",
       "      <td>F</td>\n",
       "      <td>0069 Robin Brooks Apt. 695</td>\n",
       "      <td>Birmingham</td>\n",
       "      <td>TX</td>\n",
       "      <td>Film/video editor</td>\n",
       "      <td>1977-03-23</td>\n",
       "      <td>0b242abb623afc578575680df30655b9</td>\n",
       "    </tr>\n",
       "    <tr>\n",
       "      <th>freq</th>\n",
       "      <td>4</td>\n",
       "      <td>4403</td>\n",
       "      <td>131659</td>\n",
       "      <td>26669</td>\n",
       "      <td>28794</td>\n",
       "      <td>709863</td>\n",
       "      <td>3123</td>\n",
       "      <td>5617</td>\n",
       "      <td>94876</td>\n",
       "      <td>9779</td>\n",
       "      <td>5636</td>\n",
       "      <td>1</td>\n",
       "    </tr>\n",
       "  </tbody>\n",
       "</table>\n",
       "</div>"
      ],
      "text/plain": [
       "       trans_date_trans_time           merchant       category        first  \\\n",
       "count                1296675            1296675        1296675      1296675   \n",
       "unique               1274791                693             14          352   \n",
       "top      2019-04-22 16:02:01  fraud_Kilback LLC  gas_transport  Christopher   \n",
       "freq                       4               4403         131659        26669   \n",
       "\n",
       "           last   gender                      street        city    state  \\\n",
       "count   1296675  1296675                     1296675     1296675  1296675   \n",
       "unique      481        2                         983         894       51   \n",
       "top       Smith        F  0069 Robin Brooks Apt. 695  Birmingham       TX   \n",
       "freq      28794   709863                        3123        5617    94876   \n",
       "\n",
       "                      job         dob                         trans_num  \n",
       "count             1296675     1296675                           1296675  \n",
       "unique                494         968                           1296675  \n",
       "top     Film/video editor  1977-03-23  0b242abb623afc578575680df30655b9  \n",
       "freq                 9779        5636                                 1  "
      ]
     },
     "execution_count": 20,
     "metadata": {},
     "output_type": "execute_result"
    }
   ],
   "source": [
    "# show categorical data describtion\n",
    "df_train.describe(exclude=[np.number])"
   ]
  },
  {
   "cell_type": "code",
   "execution_count": 21,
   "id": "65f98853",
   "metadata": {},
   "outputs": [
    {
     "data": {
      "text/plain": [
       "0    1289169\n",
       "1       7506\n",
       "Name: is_fraud, dtype: int64"
      ]
     },
     "execution_count": 21,
     "metadata": {},
     "output_type": "execute_result"
    }
   ],
   "source": [
    "df_train.is_fraud.value_counts()"
   ]
  },
  {
   "cell_type": "markdown",
   "id": "f41e1cce",
   "metadata": {},
   "source": [
    "## the dataset is highly unbalanced, the target variable classes are not represented equally.\n",
    "\n",
    "### and this will cause bias in our model to the majority class ( calss 0  )"
   ]
  },
  {
   "cell_type": "markdown",
   "id": "d74be516",
   "metadata": {},
   "source": [
    "## Data Cleaning\n",
    "\n",
    "### 1-Handlig null values¶"
   ]
  },
  {
   "cell_type": "code",
   "execution_count": 22,
   "id": "2e4c32e9",
   "metadata": {},
   "outputs": [
    {
     "data": {
      "text/plain": [
       "Unnamed: 0               0\n",
       "trans_date_trans_time    0\n",
       "cc_num                   0\n",
       "merchant                 0\n",
       "category                 0\n",
       "amt                      0\n",
       "first                    0\n",
       "last                     0\n",
       "gender                   0\n",
       "street                   0\n",
       "city                     0\n",
       "state                    0\n",
       "zip                      0\n",
       "lat                      0\n",
       "long                     0\n",
       "city_pop                 0\n",
       "job                      0\n",
       "dob                      0\n",
       "trans_num                0\n",
       "unix_time                0\n",
       "merch_lat                0\n",
       "merch_long               0\n",
       "is_fraud                 0\n",
       "dtype: int64"
      ]
     },
     "execution_count": 22,
     "metadata": {},
     "output_type": "execute_result"
    }
   ],
   "source": [
    "df_train.isna().sum()"
   ]
  },
  {
   "cell_type": "code",
   "execution_count": 23,
   "id": "3ca01508",
   "metadata": {},
   "outputs": [
    {
     "data": {
      "text/plain": [
       "Unnamed: 0               0\n",
       "trans_date_trans_time    0\n",
       "cc_num                   0\n",
       "merchant                 0\n",
       "category                 0\n",
       "amt                      0\n",
       "first                    0\n",
       "last                     0\n",
       "gender                   0\n",
       "street                   0\n",
       "city                     0\n",
       "state                    0\n",
       "zip                      0\n",
       "lat                      0\n",
       "long                     0\n",
       "city_pop                 0\n",
       "job                      0\n",
       "dob                      0\n",
       "trans_num                0\n",
       "unix_time                0\n",
       "merch_lat                0\n",
       "merch_long               0\n",
       "is_fraud                 0\n",
       "dtype: int64"
      ]
     },
     "execution_count": 23,
     "metadata": {},
     "output_type": "execute_result"
    }
   ],
   "source": [
    "df_test.isna().sum()"
   ]
  },
  {
   "cell_type": "code",
   "execution_count": 24,
   "id": "5f0b6807",
   "metadata": {},
   "outputs": [],
   "source": [
    "# no null values"
   ]
  },
  {
   "cell_type": "markdown",
   "id": "8750a06c",
   "metadata": {},
   "source": [
    "### 2- Handlig duplicates"
   ]
  },
  {
   "cell_type": "code",
   "execution_count": 25,
   "id": "34529472",
   "metadata": {},
   "outputs": [
    {
     "data": {
      "text/plain": [
       "0"
      ]
     },
     "execution_count": 25,
     "metadata": {},
     "output_type": "execute_result"
    }
   ],
   "source": [
    "df_train.duplicated().sum()"
   ]
  },
  {
   "cell_type": "code",
   "execution_count": 26,
   "id": "e0b0bdca",
   "metadata": {},
   "outputs": [
    {
     "data": {
      "text/plain": [
       "0"
      ]
     },
     "execution_count": 26,
     "metadata": {},
     "output_type": "execute_result"
    }
   ],
   "source": [
    "df_test.duplicated().sum()"
   ]
  },
  {
   "cell_type": "markdown",
   "id": "d6319752",
   "metadata": {},
   "source": [
    "no duplicated values"
   ]
  },
  {
   "cell_type": "markdown",
   "id": "4f6a9079",
   "metadata": {},
   "source": [
    "Drop unnamed columns"
   ]
  },
  {
   "cell_type": "code",
   "execution_count": 27,
   "id": "c2ac8d54",
   "metadata": {},
   "outputs": [
    {
     "data": {
      "text/html": [
       "<div>\n",
       "<style scoped>\n",
       "    .dataframe tbody tr th:only-of-type {\n",
       "        vertical-align: middle;\n",
       "    }\n",
       "\n",
       "    .dataframe tbody tr th {\n",
       "        vertical-align: top;\n",
       "    }\n",
       "\n",
       "    .dataframe thead th {\n",
       "        text-align: right;\n",
       "    }\n",
       "</style>\n",
       "<table border=\"1\" class=\"dataframe\">\n",
       "  <thead>\n",
       "    <tr style=\"text-align: right;\">\n",
       "      <th></th>\n",
       "      <th>trans_date_trans_time</th>\n",
       "      <th>cc_num</th>\n",
       "      <th>merchant</th>\n",
       "      <th>category</th>\n",
       "      <th>amt</th>\n",
       "      <th>first</th>\n",
       "      <th>last</th>\n",
       "      <th>gender</th>\n",
       "      <th>street</th>\n",
       "      <th>city</th>\n",
       "      <th>...</th>\n",
       "      <th>lat</th>\n",
       "      <th>long</th>\n",
       "      <th>city_pop</th>\n",
       "      <th>job</th>\n",
       "      <th>dob</th>\n",
       "      <th>trans_num</th>\n",
       "      <th>unix_time</th>\n",
       "      <th>merch_lat</th>\n",
       "      <th>merch_long</th>\n",
       "      <th>is_fraud</th>\n",
       "    </tr>\n",
       "  </thead>\n",
       "  <tbody>\n",
       "    <tr>\n",
       "      <th>0</th>\n",
       "      <td>2019-01-01 00:00:18</td>\n",
       "      <td>2703186189652095</td>\n",
       "      <td>fraud_Rippin, Kub and Mann</td>\n",
       "      <td>misc_net</td>\n",
       "      <td>4.97</td>\n",
       "      <td>Jennifer</td>\n",
       "      <td>Banks</td>\n",
       "      <td>F</td>\n",
       "      <td>561 Perry Cove</td>\n",
       "      <td>Moravian Falls</td>\n",
       "      <td>...</td>\n",
       "      <td>36.0788</td>\n",
       "      <td>-81.1781</td>\n",
       "      <td>3495</td>\n",
       "      <td>Psychologist, counselling</td>\n",
       "      <td>1988-03-09</td>\n",
       "      <td>0b242abb623afc578575680df30655b9</td>\n",
       "      <td>1325376018</td>\n",
       "      <td>36.011293</td>\n",
       "      <td>-82.048315</td>\n",
       "      <td>0</td>\n",
       "    </tr>\n",
       "    <tr>\n",
       "      <th>1</th>\n",
       "      <td>2019-01-01 00:00:44</td>\n",
       "      <td>630423337322</td>\n",
       "      <td>fraud_Heller, Gutmann and Zieme</td>\n",
       "      <td>grocery_pos</td>\n",
       "      <td>107.23</td>\n",
       "      <td>Stephanie</td>\n",
       "      <td>Gill</td>\n",
       "      <td>F</td>\n",
       "      <td>43039 Riley Greens Suite 393</td>\n",
       "      <td>Orient</td>\n",
       "      <td>...</td>\n",
       "      <td>48.8878</td>\n",
       "      <td>-118.2105</td>\n",
       "      <td>149</td>\n",
       "      <td>Special educational needs teacher</td>\n",
       "      <td>1978-06-21</td>\n",
       "      <td>1f76529f8574734946361c461b024d99</td>\n",
       "      <td>1325376044</td>\n",
       "      <td>49.159047</td>\n",
       "      <td>-118.186462</td>\n",
       "      <td>0</td>\n",
       "    </tr>\n",
       "    <tr>\n",
       "      <th>2</th>\n",
       "      <td>2019-01-01 00:00:51</td>\n",
       "      <td>38859492057661</td>\n",
       "      <td>fraud_Lind-Buckridge</td>\n",
       "      <td>entertainment</td>\n",
       "      <td>220.11</td>\n",
       "      <td>Edward</td>\n",
       "      <td>Sanchez</td>\n",
       "      <td>M</td>\n",
       "      <td>594 White Dale Suite 530</td>\n",
       "      <td>Malad City</td>\n",
       "      <td>...</td>\n",
       "      <td>42.1808</td>\n",
       "      <td>-112.2620</td>\n",
       "      <td>4154</td>\n",
       "      <td>Nature conservation officer</td>\n",
       "      <td>1962-01-19</td>\n",
       "      <td>a1a22d70485983eac12b5b88dad1cf95</td>\n",
       "      <td>1325376051</td>\n",
       "      <td>43.150704</td>\n",
       "      <td>-112.154481</td>\n",
       "      <td>0</td>\n",
       "    </tr>\n",
       "    <tr>\n",
       "      <th>3</th>\n",
       "      <td>2019-01-01 00:01:16</td>\n",
       "      <td>3534093764340240</td>\n",
       "      <td>fraud_Kutch, Hermiston and Farrell</td>\n",
       "      <td>gas_transport</td>\n",
       "      <td>45.00</td>\n",
       "      <td>Jeremy</td>\n",
       "      <td>White</td>\n",
       "      <td>M</td>\n",
       "      <td>9443 Cynthia Court Apt. 038</td>\n",
       "      <td>Boulder</td>\n",
       "      <td>...</td>\n",
       "      <td>46.2306</td>\n",
       "      <td>-112.1138</td>\n",
       "      <td>1939</td>\n",
       "      <td>Patent attorney</td>\n",
       "      <td>1967-01-12</td>\n",
       "      <td>6b849c168bdad6f867558c3793159a81</td>\n",
       "      <td>1325376076</td>\n",
       "      <td>47.034331</td>\n",
       "      <td>-112.561071</td>\n",
       "      <td>0</td>\n",
       "    </tr>\n",
       "    <tr>\n",
       "      <th>4</th>\n",
       "      <td>2019-01-01 00:03:06</td>\n",
       "      <td>375534208663984</td>\n",
       "      <td>fraud_Keeling-Crist</td>\n",
       "      <td>misc_pos</td>\n",
       "      <td>41.96</td>\n",
       "      <td>Tyler</td>\n",
       "      <td>Garcia</td>\n",
       "      <td>M</td>\n",
       "      <td>408 Bradley Rest</td>\n",
       "      <td>Doe Hill</td>\n",
       "      <td>...</td>\n",
       "      <td>38.4207</td>\n",
       "      <td>-79.4629</td>\n",
       "      <td>99</td>\n",
       "      <td>Dance movement psychotherapist</td>\n",
       "      <td>1986-03-28</td>\n",
       "      <td>a41d7549acf90789359a9aa5346dcb46</td>\n",
       "      <td>1325376186</td>\n",
       "      <td>38.674999</td>\n",
       "      <td>-78.632459</td>\n",
       "      <td>0</td>\n",
       "    </tr>\n",
       "  </tbody>\n",
       "</table>\n",
       "<p>5 rows × 22 columns</p>\n",
       "</div>"
      ],
      "text/plain": [
       "  trans_date_trans_time            cc_num                            merchant  \\\n",
       "0   2019-01-01 00:00:18  2703186189652095          fraud_Rippin, Kub and Mann   \n",
       "1   2019-01-01 00:00:44      630423337322     fraud_Heller, Gutmann and Zieme   \n",
       "2   2019-01-01 00:00:51    38859492057661                fraud_Lind-Buckridge   \n",
       "3   2019-01-01 00:01:16  3534093764340240  fraud_Kutch, Hermiston and Farrell   \n",
       "4   2019-01-01 00:03:06   375534208663984                 fraud_Keeling-Crist   \n",
       "\n",
       "        category     amt      first     last gender  \\\n",
       "0       misc_net    4.97   Jennifer    Banks      F   \n",
       "1    grocery_pos  107.23  Stephanie     Gill      F   \n",
       "2  entertainment  220.11     Edward  Sanchez      M   \n",
       "3  gas_transport   45.00     Jeremy    White      M   \n",
       "4       misc_pos   41.96      Tyler   Garcia      M   \n",
       "\n",
       "                         street            city  ...      lat      long  \\\n",
       "0                561 Perry Cove  Moravian Falls  ...  36.0788  -81.1781   \n",
       "1  43039 Riley Greens Suite 393          Orient  ...  48.8878 -118.2105   \n",
       "2      594 White Dale Suite 530      Malad City  ...  42.1808 -112.2620   \n",
       "3   9443 Cynthia Court Apt. 038         Boulder  ...  46.2306 -112.1138   \n",
       "4              408 Bradley Rest        Doe Hill  ...  38.4207  -79.4629   \n",
       "\n",
       "   city_pop                                job         dob  \\\n",
       "0      3495          Psychologist, counselling  1988-03-09   \n",
       "1       149  Special educational needs teacher  1978-06-21   \n",
       "2      4154        Nature conservation officer  1962-01-19   \n",
       "3      1939                    Patent attorney  1967-01-12   \n",
       "4        99     Dance movement psychotherapist  1986-03-28   \n",
       "\n",
       "                          trans_num   unix_time  merch_lat  merch_long  \\\n",
       "0  0b242abb623afc578575680df30655b9  1325376018  36.011293  -82.048315   \n",
       "1  1f76529f8574734946361c461b024d99  1325376044  49.159047 -118.186462   \n",
       "2  a1a22d70485983eac12b5b88dad1cf95  1325376051  43.150704 -112.154481   \n",
       "3  6b849c168bdad6f867558c3793159a81  1325376076  47.034331 -112.561071   \n",
       "4  a41d7549acf90789359a9aa5346dcb46  1325376186  38.674999  -78.632459   \n",
       "\n",
       "   is_fraud  \n",
       "0         0  \n",
       "1         0  \n",
       "2         0  \n",
       "3         0  \n",
       "4         0  \n",
       "\n",
       "[5 rows x 22 columns]"
      ]
     },
     "execution_count": 27,
     "metadata": {},
     "output_type": "execute_result"
    }
   ],
   "source": [
    "df_train.drop(\"Unnamed: 0\",axis=1,inplace=True)\n",
    "df_test.drop(\"Unnamed: 0\",axis=1,inplace=True)\n",
    "df_train.head()"
   ]
  },
  {
   "cell_type": "markdown",
   "id": "cd0ca524",
   "metadata": {},
   "source": [
    "### 3- Handling date time"
   ]
  },
  {
   "cell_type": "code",
   "execution_count": 29,
   "id": "5ed5bc0b",
   "metadata": {},
   "outputs": [],
   "source": [
    "df_train['trans_date_trans_time']=pd.to_datetime(df_train['trans_date_trans_time'])\n",
    "df_train['trans_date']=df_train['trans_date_trans_time'].dt.strftime('%Y-%m-%d')\n",
    "df_train['trans_date']=pd.to_datetime(df_train['trans_date'])\n",
    "df_train['dob']=pd.to_datetime(df_train['dob'])\n",
    "\n",
    "df_test['trans_date_trans_time']=pd.to_datetime(df_test['trans_date_trans_time'])\n",
    "df_test['trans_date']=df_test['trans_date_trans_time'].dt.strftime('%Y-%m-%d')\n",
    "df_test['trans_date']=pd.to_datetime(df_test['trans_date'])\n",
    "df_test['dob']=pd.to_datetime(df_test['dob'])"
   ]
  },
  {
   "cell_type": "markdown",
   "id": "fc4a0c02",
   "metadata": {},
   "source": [
    "concatenate training data and testing data"
   ]
  },
  {
   "cell_type": "code",
   "execution_count": 30,
   "id": "618c301c",
   "metadata": {},
   "outputs": [
    {
     "name": "stdout",
     "output_type": "stream",
     "text": [
      "<class 'pandas.core.frame.DataFrame'>\n",
      "Int64Index: 1852394 entries, 0 to 1296674\n",
      "Data columns (total 23 columns):\n",
      " #   Column                 Dtype         \n",
      "---  ------                 -----         \n",
      " 0   trans_date_trans_time  datetime64[ns]\n",
      " 1   cc_num                 int64         \n",
      " 2   merchant               object        \n",
      " 3   category               object        \n",
      " 4   amt                    float64       \n",
      " 5   first                  object        \n",
      " 6   last                   object        \n",
      " 7   gender                 object        \n",
      " 8   street                 object        \n",
      " 9   city                   object        \n",
      " 10  state                  object        \n",
      " 11  zip                    int64         \n",
      " 12  lat                    float64       \n",
      " 13  long                   float64       \n",
      " 14  city_pop               int64         \n",
      " 15  job                    object        \n",
      " 16  dob                    datetime64[ns]\n",
      " 17  trans_num              object        \n",
      " 18  unix_time              int64         \n",
      " 19  merch_lat              float64       \n",
      " 20  merch_long             float64       \n",
      " 21  is_fraud               int64         \n",
      " 22  trans_date             datetime64[ns]\n",
      "dtypes: datetime64[ns](3), float64(5), int64(5), object(10)\n",
      "memory usage: 339.2+ MB\n"
     ]
    }
   ],
   "source": [
    "total = pd.concat([df_test,df_train])\n",
    "total.info()"
   ]
  },
  {
   "cell_type": "code",
   "execution_count": 31,
   "id": "0d3af3ec",
   "metadata": {},
   "outputs": [
    {
     "data": {
      "text/plain": [
       "(1852394, 23)"
      ]
     },
     "execution_count": 31,
     "metadata": {},
     "output_type": "execute_result"
    }
   ],
   "source": [
    "total.shape"
   ]
  },
  {
   "cell_type": "markdown",
   "id": "c11bf68c",
   "metadata": {},
   "source": [
    "#### total nunber of transactions"
   ]
  },
  {
   "cell_type": "code",
   "execution_count": 32,
   "id": "0686faa0",
   "metadata": {},
   "outputs": [
    {
     "data": {
      "text/plain": [
       "1852394"
      ]
     },
     "execution_count": 32,
     "metadata": {},
     "output_type": "execute_result"
    }
   ],
   "source": [
    "len(total)"
   ]
  },
  {
   "cell_type": "code",
   "execution_count": 33,
   "id": "1977888a",
   "metadata": {},
   "outputs": [
    {
     "data": {
      "text/plain": [
       "trans_date_trans_time    datetime64[ns]\n",
       "cc_num                            int64\n",
       "merchant                         object\n",
       "category                         object\n",
       "amt                             float64\n",
       "first                            object\n",
       "last                             object\n",
       "gender                           object\n",
       "street                           object\n",
       "city                             object\n",
       "state                            object\n",
       "zip                               int64\n",
       "lat                             float64\n",
       "long                            float64\n",
       "city_pop                          int64\n",
       "job                              object\n",
       "dob                      datetime64[ns]\n",
       "trans_num                        object\n",
       "unix_time                         int64\n",
       "merch_lat                       float64\n",
       "merch_long                      float64\n",
       "is_fraud                          int64\n",
       "trans_date               datetime64[ns]\n",
       "dtype: object"
      ]
     },
     "execution_count": 33,
     "metadata": {},
     "output_type": "execute_result"
    }
   ],
   "source": [
    "total.dtypes"
   ]
  },
  {
   "cell_type": "markdown",
   "id": "52f799bc",
   "metadata": {},
   "source": [
    "## Data Exploration"
   ]
  },
  {
   "cell_type": "code",
   "execution_count": 34,
   "id": "21d781e2",
   "metadata": {},
   "outputs": [
    {
     "data": {
      "image/png": "[encoded data removed]",
      "text/plain": [
       "<Figure size 432x288 with 1 Axes>"
      ]
     },
     "metadata": {},
     "output_type": "display_data"
    }
   ],
   "source": [
    "labels=total.is_fraud.unique()\n",
    "\n",
    "sizes=total.is_fraud.value_counts().values\n",
    "mycolors = [\"c\", \"y\"]\n",
    "# plot the class value counts\n",
    "fig, ax = plt.subplots()\n",
    "ax.pie(sizes, labels=[\"Not Fraud\",\"fruad\"], autopct='%1.3f%%',colors=mycolors,shadow=True,startangle = 180)\n",
    "ax.set_title('Target Variable Value Counts')\n",
    "plt.legend()\n",
    "plt.show()"
   ]
  },
  {
   "cell_type": "markdown",
   "id": "ef1e89b3",
   "metadata": {},
   "source": [
    "## this shows how the dataset is inbalanced"
   ]
  },
  {
   "cell_type": "code",
   "execution_count": 37,
   "id": "fcf8a97c",
   "metadata": {},
   "outputs": [
    {
     "data": {
      "image/png": "[encoded data removed]",
      "text/plain": [
       "<Figure size 432x288 with 1 Axes>"
      ]
     },
     "metadata": {
      "needs_background": "light"
     },
     "output_type": "display_data"
    },
    {
     "name": "stdout",
     "output_type": "stream",
     "text": [
      "Minimum amount value is  1.0\n",
      "Maximum amount value is  28948.9\n",
      "90% of the transactions have an amount less or equal than  136.67\n"
     ]
    }
   ],
   "source": [
    "plt.hist(total.amt.values, 9, histtype='bar', facecolor='purple')\n",
    "plt.show()\n",
    "\n",
    "print(\"Minimum amount value is \", np.min(df_train.amt.values))\n",
    "print(\"Maximum amount value is \", np.max(df_train.amt.values))\n",
    "print(\"90% of the transactions have an amount less or equal than \", np.percentile(df_train.amt.values, 90))"
   ]
  },
  {
   "cell_type": "code",
   "execution_count": 38,
   "id": "d4ef5599",
   "metadata": {},
   "outputs": [
    {
     "data": {
      "text/plain": [
       "gas_transport     188029\n",
       "grocery_pos       176191\n",
       "home              175460\n",
       "shopping_pos      166463\n",
       "kids_pets         161727\n",
       "shopping_net      139322\n",
       "entertainment     134118\n",
       "food_dining       130729\n",
       "personal_care     130085\n",
       "health_fitness    122553\n",
       "misc_pos          114229\n",
       "misc_net           90654\n",
       "grocery_net        64878\n",
       "travel             57956\n",
       "Name: category, dtype: int64"
      ]
     },
     "execution_count": 38,
     "metadata": {},
     "output_type": "execute_result"
    }
   ],
   "source": [
    "total.category.value_counts()"
   ]
  },
  {
   "cell_type": "code",
   "execution_count": 39,
   "id": "03ecfbc4",
   "metadata": {},
   "outputs": [
    {
     "data": {
      "image/png": "[encoded data removed]",
      "text/plain": [
       "<Figure size 432x288 with 1 Axes>"
      ]
     },
     "metadata": {
      "needs_background": "light"
     },
     "output_type": "display_data"
    }
   ],
   "source": [
    "sns.countplot(x='category', data=total)\n",
    "plt.title('Category distribution')\n",
    "plt.xticks(rotation=90)\n",
    "plt.show()"
   ]
  },
  {
   "cell_type": "markdown",
   "id": "6d65e363",
   "metadata": {},
   "source": [
    "### The categories the people used credit cards in it"
   ]
  },
  {
   "cell_type": "code",
   "execution_count": 43,
   "id": "4d2401f8",
   "metadata": {},
   "outputs": [
    {
     "data": {
      "image/png": "[encoded data removed]",
      "text/plain": [
       "<Figure size 432x288 with 1 Axes>"
      ]
     },
     "metadata": {
      "needs_background": "light"
     },
     "output_type": "display_data"
    }
   ],
   "source": [
    "sns.countplot(x='gender',hue=\"gender\" ,data=total,palette = \"Set2\")\n",
    "plt.title('Gender distribution')\n",
    "plt.show()"
   ]
  },
  {
   "cell_type": "markdown",
   "id": "0d69b9db",
   "metadata": {},
   "source": [
    "### count plots  shows that women have experienced more fraud than men."
   ]
  },
  {
   "cell_type": "code",
   "execution_count": 44,
   "id": "b19d4584",
   "metadata": {},
   "outputs": [
    {
     "data": {
      "text/plain": [
       "<AxesSubplot:>"
      ]
     },
     "execution_count": 44,
     "metadata": {},
     "output_type": "execute_result"
    },
    {
     "data": {
      "image/png": "[encoded data removed]",
      "text/plain": [
       "<Figure size 432x288 with 1 Axes>"
      ]
     },
     "metadata": {
      "needs_background": "light"
     },
     "output_type": "display_data"
    }
   ],
   "source": [
    "total[\"amt\"].plot(kind='box')"
   ]
  },
  {
   "cell_type": "code",
   "execution_count": 45,
   "id": "16725a56",
   "metadata": {},
   "outputs": [
    {
     "data": {
      "text/plain": [
       "<AxesSubplot:>"
      ]
     },
     "execution_count": 45,
     "metadata": {},
     "output_type": "execute_result"
    },
    {
     "data": {
      "image/png": "[encoded data removed]",
      "text/plain": [
       "<Figure size 432x288 with 1 Axes>"
      ]
     },
     "metadata": {
      "needs_background": "light"
     },
     "output_type": "display_data"
    }
   ],
   "source": [
    "total[\"city_pop\"].plot(kind='box')"
   ]
  },
  {
   "cell_type": "markdown",
   "id": "956ef64b",
   "metadata": {},
   "source": [
    "### dataset has an outlires"
   ]
  },
  {
   "cell_type": "markdown",
   "id": "80ce66f3",
   "metadata": {},
   "source": [
    "## 3- Looking for correlation"
   ]
  },
  {
   "cell_type": "code",
   "execution_count": 46,
   "id": "9a80c8e2",
   "metadata": {},
   "outputs": [
    {
     "data": {
      "text/plain": [
       "<AxesSubplot:>"
      ]
     },
     "execution_count": 46,
     "metadata": {},
     "output_type": "execute_result"
    },
    {
     "data": {
      "image/png": "[encoded data removed]",
      "text/plain": [
       "<Figure size 1800x648 with 2 Axes>"
      ]
     },
     "metadata": {
      "needs_background": "light"
     },
     "output_type": "display_data"
    }
   ],
   "source": [
    "fig = plt.figure(figsize=(25,9))\n",
    "mask = np.triu(np.ones_like(total.corr()))\n",
    "sns.heatmap(total.corr(), mask=mask, cmap='coolwarm', annot=True)"
   ]
  },
  {
   "cell_type": "code",
   "execution_count": 47,
   "id": "6c14fbca",
   "metadata": {},
   "outputs": [],
   "source": [
    "#Calculate distance between merchant and home location\n",
    "total['latitudinal_distance'] = abs(round(total['merch_lat']-total['lat'],3))\n",
    "total['longitudinal_distance'] = abs(round(total['merch_long']-total['long'],3))"
   ]
  },
  {
   "cell_type": "code",
   "execution_count": 49,
   "id": "f57bfdad",
   "metadata": {},
   "outputs": [
    {
     "data": {
      "image/png": "[encoded data removed]",
      "text/plain": [
       "<Figure size 432x288 with 1 Axes>"
      ]
     },
     "metadata": {
      "needs_background": "light"
     },
     "output_type": "display_data"
    }
   ],
   "source": [
    "fraud = total[total[\"is_fraud\"] == 1]\n",
    "fig, ax = plt.subplots()\n",
    "ax.hist(fraud.latitudinal_distance, edgecolor=\"black\", bins=5, color=\"purple\")\n",
    "plt.title(\"Number of Credit Card Frauds by latitudinal distance\")\n",
    "plt.show()"
   ]
  },
  {
   "cell_type": "code",
   "execution_count": 51,
   "id": "1b608ab4",
   "metadata": {},
   "outputs": [
    {
     "data": {
      "text/plain": [
       "F    1014749\n",
       "M     837645\n",
       "Name: gender, dtype: int64"
      ]
     },
     "execution_count": 51,
     "metadata": {},
     "output_type": "execute_result"
    }
   ],
   "source": [
    "total.gender.value_counts()\n"
   ]
  },
  {
   "cell_type": "code",
   "execution_count": 52,
   "id": "7f8758e5",
   "metadata": {},
   "outputs": [
    {
     "data": {
      "text/plain": [
       "0    1014749\n",
       "1     837645\n",
       "Name: gender, dtype: int64"
      ]
     },
     "execution_count": 52,
     "metadata": {},
     "output_type": "execute_result"
    }
   ],
   "source": [
    "# Convert categorical column gender into numerical \n",
    "total.gender=total.gender.apply(lambda x: 1 if x==\"M\" else 0)\n",
    "total.gender.value_counts()"
   ]
  },
  {
   "cell_type": "code",
   "execution_count": 54,
   "id": "9fe6a1c3",
   "metadata": {},
   "outputs": [
    {
     "data": {
      "text/plain": [
       "0    52.0\n",
       "1    30.0\n",
       "2    49.0\n",
       "3    32.0\n",
       "4    64.0\n",
       "Name: age, dtype: float64"
      ]
     },
     "execution_count": 54,
     "metadata": {},
     "output_type": "execute_result"
    }
   ],
   "source": [
    "total[\"age\"] = total[\"trans_date\"]-total[\"dob\"]\n",
    "total[\"age\"]=total[\"age\"].astype('timedelta64[Y]')\n",
    "total[\"age\"].head()"
   ]
  },
  {
   "cell_type": "code",
   "execution_count": 57,
   "id": "b0515b60",
   "metadata": {},
   "outputs": [],
   "source": [
    "total['trans_month'] = pd.DatetimeIndex(total['trans_date']).month\n",
    "total['trans_year'] = pd.DatetimeIndex(total['trans_date']).year"
   ]
  },
  {
   "cell_type": "code",
   "execution_count": 58,
   "id": "ecb80b71",
   "metadata": {},
   "outputs": [],
   "source": [
    "import calendar\n",
    "total['Month_name'] = total['trans_month'].apply(lambda x: calendar.month_abbr[x])"
   ]
  },
  {
   "cell_type": "code",
   "execution_count": 59,
   "id": "06247e4b",
   "metadata": {},
   "outputs": [
    {
     "data": {
      "image/png": "[encoded data removed]",
      "text/plain": [
       "<Figure size 432x288 with 1 Axes>"
      ]
     },
     "metadata": {
      "needs_background": "light"
     },
     "output_type": "display_data"
    }
   ],
   "source": [
    "sns.countplot(total[total[\"is_fraud\"]==1][\"Month_name\"],color=\"green\")\n",
    "plt.title(\"Number of Credit Card Frauds by month\")\n",
    "plt.show()\n",
    "del total['Month_name']"
   ]
  },
  {
   "cell_type": "markdown",
   "id": "a92d7727",
   "metadata": {},
   "source": [
    "### The count plot shows the number of fraudulent transactions made by each month \n",
    " #### appear march and April have the biggest amount approximatly 870 fraud transactions"
   ]
  },
  {
   "cell_type": "code",
   "execution_count": 60,
   "id": "6040196c",
   "metadata": {},
   "outputs": [
    {
     "name": "stdout",
     "output_type": "stream",
     "text": [
      "<class 'pandas.core.frame.DataFrame'>\n",
      "Int64Index: 1852394 entries, 0 to 1296674\n",
      "Data columns (total 28 columns):\n",
      " #   Column                 Dtype         \n",
      "---  ------                 -----         \n",
      " 0   trans_date_trans_time  datetime64[ns]\n",
      " 1   cc_num                 int64         \n",
      " 2   merchant               object        \n",
      " 3   category               object        \n",
      " 4   amt                    float64       \n",
      " 5   first                  object        \n",
      " 6   last                   object        \n",
      " 7   gender                 int64         \n",
      " 8   street                 object        \n",
      " 9   city                   object        \n",
      " 10  state                  object        \n",
      " 11  zip                    int64         \n",
      " 12  lat                    float64       \n",
      " 13  long                   float64       \n",
      " 14  city_pop               int64         \n",
      " 15  job                    object        \n",
      " 16  dob                    datetime64[ns]\n",
      " 17  trans_num              object        \n",
      " 18  unix_time              int64         \n",
      " 19  merch_lat              float64       \n",
      " 20  merch_long             float64       \n",
      " 21  is_fraud               int64         \n",
      " 22  trans_date             datetime64[ns]\n",
      " 23  latitudinal_distance   float64       \n",
      " 24  longitudinal_distance  float64       \n",
      " 25  age                    float64       \n",
      " 26  trans_month            int64         \n",
      " 27  trans_year             int64         \n",
      "dtypes: datetime64[ns](3), float64(8), int64(8), object(9)\n",
      "memory usage: 409.8+ MB\n"
     ]
    }
   ],
   "source": [
    "total.info()"
   ]
  },
  {
   "cell_type": "code",
   "execution_count": 61,
   "id": "0ac87d9f",
   "metadata": {},
   "outputs": [
    {
     "name": "stdout",
     "output_type": "stream",
     "text": [
      "<class 'pandas.core.frame.DataFrame'>\n",
      "Int64Index: 1852394 entries, 0 to 1296674\n",
      "Data columns (total 11 columns):\n",
      " #   Column                 Dtype  \n",
      "---  ------                 -----  \n",
      " 0   category               object \n",
      " 1   amt                    float64\n",
      " 2   gender                 int64  \n",
      " 3   zip                    int64  \n",
      " 4   city_pop               int64  \n",
      " 5   is_fraud               int64  \n",
      " 6   latitudinal_distance   float64\n",
      " 7   longitudinal_distance  float64\n",
      " 8   age                    float64\n",
      " 9   trans_month            int64  \n",
      " 10  trans_year             int64  \n",
      "dtypes: float64(4), int64(6), object(1)\n",
      "memory usage: 169.6+ MB\n"
     ]
    }
   ],
   "source": [
    "# Dropping final set of variables not useful for model building\n",
    "\n",
    "drop_cols = ['trans_date_trans_time','city','lat','long','job','dob','merch_lat','merch_long','trans_date','state',\"first\",\"last\",\"cc_num\",\"merchant\",\"street\",\"unix_time\",\"trans_num\"]\n",
    "total=total.drop(drop_cols,axis=1)\n",
    "total.info()"
   ]
  },
  {
   "cell_type": "code",
   "execution_count": 62,
   "id": "cc70be40",
   "metadata": {},
   "outputs": [
    {
     "data": {
      "text/html": [
       "<div>\n",
       "<style scoped>\n",
       "    .dataframe tbody tr th:only-of-type {\n",
       "        vertical-align: middle;\n",
       "    }\n",
       "\n",
       "    .dataframe tbody tr th {\n",
       "        vertical-align: top;\n",
       "    }\n",
       "\n",
       "    .dataframe thead th {\n",
       "        text-align: right;\n",
       "    }\n",
       "</style>\n",
       "<table border=\"1\" class=\"dataframe\">\n",
       "  <thead>\n",
       "    <tr style=\"text-align: right;\">\n",
       "      <th></th>\n",
       "      <th>category</th>\n",
       "      <th>amt</th>\n",
       "      <th>gender</th>\n",
       "      <th>city_pop</th>\n",
       "      <th>is_fraud</th>\n",
       "      <th>latitudinal_distance</th>\n",
       "      <th>longitudinal_distance</th>\n",
       "      <th>age</th>\n",
       "      <th>trans_month</th>\n",
       "      <th>trans_year</th>\n",
       "    </tr>\n",
       "  </thead>\n",
       "  <tbody>\n",
       "    <tr>\n",
       "      <th>0</th>\n",
       "      <td>personal_care</td>\n",
       "      <td>2.86</td>\n",
       "      <td>1</td>\n",
       "      <td>333497</td>\n",
       "      <td>0</td>\n",
       "      <td>0.020</td>\n",
       "      <td>0.265</td>\n",
       "      <td>52.0</td>\n",
       "      <td>6</td>\n",
       "      <td>2020</td>\n",
       "    </tr>\n",
       "    <tr>\n",
       "      <th>1</th>\n",
       "      <td>personal_care</td>\n",
       "      <td>29.84</td>\n",
       "      <td>0</td>\n",
       "      <td>302</td>\n",
       "      <td>0</td>\n",
       "      <td>0.870</td>\n",
       "      <td>0.476</td>\n",
       "      <td>30.0</td>\n",
       "      <td>6</td>\n",
       "      <td>2020</td>\n",
       "    </tr>\n",
       "    <tr>\n",
       "      <th>2</th>\n",
       "      <td>health_fitness</td>\n",
       "      <td>41.28</td>\n",
       "      <td>0</td>\n",
       "      <td>34496</td>\n",
       "      <td>0</td>\n",
       "      <td>0.177</td>\n",
       "      <td>0.660</td>\n",
       "      <td>49.0</td>\n",
       "      <td>6</td>\n",
       "      <td>2020</td>\n",
       "    </tr>\n",
       "    <tr>\n",
       "      <th>3</th>\n",
       "      <td>misc_pos</td>\n",
       "      <td>60.05</td>\n",
       "      <td>1</td>\n",
       "      <td>54767</td>\n",
       "      <td>0</td>\n",
       "      <td>0.243</td>\n",
       "      <td>0.064</td>\n",
       "      <td>32.0</td>\n",
       "      <td>6</td>\n",
       "      <td>2020</td>\n",
       "    </tr>\n",
       "    <tr>\n",
       "      <th>4</th>\n",
       "      <td>travel</td>\n",
       "      <td>3.19</td>\n",
       "      <td>1</td>\n",
       "      <td>1126</td>\n",
       "      <td>0</td>\n",
       "      <td>0.706</td>\n",
       "      <td>0.868</td>\n",
       "      <td>64.0</td>\n",
       "      <td>6</td>\n",
       "      <td>2020</td>\n",
       "    </tr>\n",
       "    <tr>\n",
       "      <th>...</th>\n",
       "      <td>...</td>\n",
       "      <td>...</td>\n",
       "      <td>...</td>\n",
       "      <td>...</td>\n",
       "      <td>...</td>\n",
       "      <td>...</td>\n",
       "      <td>...</td>\n",
       "      <td>...</td>\n",
       "      <td>...</td>\n",
       "      <td>...</td>\n",
       "    </tr>\n",
       "    <tr>\n",
       "      <th>1296670</th>\n",
       "      <td>entertainment</td>\n",
       "      <td>15.56</td>\n",
       "      <td>1</td>\n",
       "      <td>258</td>\n",
       "      <td>0</td>\n",
       "      <td>0.876</td>\n",
       "      <td>0.787</td>\n",
       "      <td>58.0</td>\n",
       "      <td>6</td>\n",
       "      <td>2020</td>\n",
       "    </tr>\n",
       "    <tr>\n",
       "      <th>1296671</th>\n",
       "      <td>food_dining</td>\n",
       "      <td>51.70</td>\n",
       "      <td>1</td>\n",
       "      <td>100</td>\n",
       "      <td>0</td>\n",
       "      <td>0.360</td>\n",
       "      <td>0.736</td>\n",
       "      <td>40.0</td>\n",
       "      <td>6</td>\n",
       "      <td>2020</td>\n",
       "    </tr>\n",
       "    <tr>\n",
       "      <th>1296672</th>\n",
       "      <td>food_dining</td>\n",
       "      <td>105.93</td>\n",
       "      <td>1</td>\n",
       "      <td>899</td>\n",
       "      <td>0</td>\n",
       "      <td>0.680</td>\n",
       "      <td>0.688</td>\n",
       "      <td>52.0</td>\n",
       "      <td>6</td>\n",
       "      <td>2020</td>\n",
       "    </tr>\n",
       "    <tr>\n",
       "      <th>1296673</th>\n",
       "      <td>food_dining</td>\n",
       "      <td>74.90</td>\n",
       "      <td>1</td>\n",
       "      <td>1126</td>\n",
       "      <td>0</td>\n",
       "      <td>0.564</td>\n",
       "      <td>0.700</td>\n",
       "      <td>39.0</td>\n",
       "      <td>6</td>\n",
       "      <td>2020</td>\n",
       "    </tr>\n",
       "    <tr>\n",
       "      <th>1296674</th>\n",
       "      <td>food_dining</td>\n",
       "      <td>4.30</td>\n",
       "      <td>1</td>\n",
       "      <td>218</td>\n",
       "      <td>0</td>\n",
       "      <td>0.723</td>\n",
       "      <td>0.311</td>\n",
       "      <td>24.0</td>\n",
       "      <td>6</td>\n",
       "      <td>2020</td>\n",
       "    </tr>\n",
       "  </tbody>\n",
       "</table>\n",
       "<p>1852394 rows × 10 columns</p>\n",
       "</div>"
      ],
      "text/plain": [
       "               category     amt  gender  city_pop  is_fraud  \\\n",
       "0         personal_care    2.86       1    333497         0   \n",
       "1         personal_care   29.84       0       302         0   \n",
       "2        health_fitness   41.28       0     34496         0   \n",
       "3              misc_pos   60.05       1     54767         0   \n",
       "4                travel    3.19       1      1126         0   \n",
       "...                 ...     ...     ...       ...       ...   \n",
       "1296670   entertainment   15.56       1       258         0   \n",
       "1296671     food_dining   51.70       1       100         0   \n",
       "1296672     food_dining  105.93       1       899         0   \n",
       "1296673     food_dining   74.90       1      1126         0   \n",
       "1296674     food_dining    4.30       1       218         0   \n",
       "\n",
       "         latitudinal_distance  longitudinal_distance   age  trans_month  \\\n",
       "0                       0.020                  0.265  52.0            6   \n",
       "1                       0.870                  0.476  30.0            6   \n",
       "2                       0.177                  0.660  49.0            6   \n",
       "3                       0.243                  0.064  32.0            6   \n",
       "4                       0.706                  0.868  64.0            6   \n",
       "...                       ...                    ...   ...          ...   \n",
       "1296670                 0.876                  0.787  58.0            6   \n",
       "1296671                 0.360                  0.736  40.0            6   \n",
       "1296672                 0.680                  0.688  52.0            6   \n",
       "1296673                 0.564                  0.700  39.0            6   \n",
       "1296674                 0.723                  0.311  24.0            6   \n",
       "\n",
       "         trans_year  \n",
       "0              2020  \n",
       "1              2020  \n",
       "2              2020  \n",
       "3              2020  \n",
       "4              2020  \n",
       "...             ...  \n",
       "1296670        2020  \n",
       "1296671        2020  \n",
       "1296672        2020  \n",
       "1296673        2020  \n",
       "1296674        2020  \n",
       "\n",
       "[1852394 rows x 10 columns]"
      ]
     },
     "execution_count": 62,
     "metadata": {},
     "output_type": "execute_result"
    }
   ],
   "source": [
    "total.drop(\"zip\",axis=1)"
   ]
  },
  {
   "cell_type": "code",
   "execution_count": 63,
   "id": "eaa30eaf",
   "metadata": {},
   "outputs": [
    {
     "name": "stdout",
     "output_type": "stream",
     "text": [
      "<class 'pandas.core.frame.DataFrame'>\n",
      "Int64Index: 1852394 entries, 0 to 1296674\n",
      "Data columns (total 23 columns):\n",
      " #   Column                   Dtype  \n",
      "---  ------                   -----  \n",
      " 0   amt                      float64\n",
      " 1   gender                   int64  \n",
      " 2   zip                      int64  \n",
      " 3   city_pop                 int64  \n",
      " 4   is_fraud                 int64  \n",
      " 5   latitudinal_distance     float64\n",
      " 6   longitudinal_distance    float64\n",
      " 7   age                      float64\n",
      " 8   trans_month              int64  \n",
      " 9   trans_year               int64  \n",
      " 10  category_food_dining     uint8  \n",
      " 11  category_gas_transport   uint8  \n",
      " 12  category_grocery_net     uint8  \n",
      " 13  category_grocery_pos     uint8  \n",
      " 14  category_health_fitness  uint8  \n",
      " 15  category_home            uint8  \n",
      " 16  category_kids_pets       uint8  \n",
      " 17  category_misc_net        uint8  \n",
      " 18  category_misc_pos        uint8  \n",
      " 19  category_personal_care   uint8  \n",
      " 20  category_shopping_net    uint8  \n",
      " 21  category_shopping_pos    uint8  \n",
      " 22  category_travel          uint8  \n",
      "dtypes: float64(4), int64(6), uint8(13)\n",
      "memory usage: 178.4 MB\n"
     ]
    }
   ],
   "source": [
    "# encode categoriacal data\n",
    "total = pd.get_dummies(total,columns=['category'],drop_first=True)\n",
    "total.info()"
   ]
  },
  {
   "cell_type": "markdown",
   "id": "6ba5d200",
   "metadata": {},
   "source": [
    "## Correcting the imbalance discovered by using resample"
   ]
  },
  {
   "cell_type": "code",
   "execution_count": 67,
   "id": "728f45f3",
   "metadata": {},
   "outputs": [
    {
     "data": {
      "text/plain": [
       "((1842743, 23), (9651, 23))"
      ]
     },
     "execution_count": 67,
     "metadata": {},
     "output_type": "execute_result"
    }
   ],
   "source": [
    "#create two different dataframe of majority and minority class \n",
    "df_majority = total[(total['is_fraud']==0)] #not froud\n",
    "df_minority = total[(total['is_fraud']==1)] # froud\n",
    "\n",
    "df_majority.shape,df_minority.shape"
   ]
  },
  {
   "cell_type": "code",
   "execution_count": 68,
   "id": "9c1f4d58",
   "metadata": {},
   "outputs": [
    {
     "data": {
      "text/plain": [
       "(1842743, 23)"
      ]
     },
     "execution_count": 68,
     "metadata": {},
     "output_type": "execute_result"
    }
   ],
   "source": [
    "# upsample minority class\n",
    "from sklearn.utils import resample\n",
    "df_minority_upsampled = resample(df_minority, \n",
    "                                 replace=True,    # sample with replacement\n",
    "                                 n_samples= 1842743, # to match majority class\n",
    "                                 random_state=42)  # reproducible results\n",
    "df_minority_upsampled.shape"
   ]
  },
  {
   "cell_type": "code",
   "execution_count": 72,
   "id": "89bb7906",
   "metadata": {},
   "outputs": [
    {
     "data": {
      "text/plain": [
       "(3685486, 23)"
      ]
     },
     "execution_count": 72,
     "metadata": {},
     "output_type": "execute_result"
    }
   ],
   "source": [
    "# Combine majority class with upsampled minority class\n",
    "total_upsampled = pd.concat([df_minority_upsampled, df_majority])\n",
    "total_upsampled.shape"
   ]
  },
  {
   "cell_type": "code",
   "execution_count": 73,
   "id": "ecf26b8c",
   "metadata": {},
   "outputs": [
    {
     "data": {
      "text/plain": [
       "['amt',\n",
       " 'gender',\n",
       " 'zip',\n",
       " 'city_pop',\n",
       " 'latitudinal_distance',\n",
       " 'longitudinal_distance',\n",
       " 'age',\n",
       " 'trans_month',\n",
       " 'trans_year',\n",
       " 'category_food_dining',\n",
       " 'category_gas_transport',\n",
       " 'category_grocery_net',\n",
       " 'category_grocery_pos',\n",
       " 'category_health_fitness',\n",
       " 'category_home',\n",
       " 'category_kids_pets',\n",
       " 'category_misc_net',\n",
       " 'category_misc_pos',\n",
       " 'category_personal_care',\n",
       " 'category_shopping_net',\n",
       " 'category_shopping_pos',\n",
       " 'category_travel']"
      ]
     },
     "execution_count": 73,
     "metadata": {},
     "output_type": "execute_result"
    }
   ],
   "source": [
    "x_cols = list(total_upsampled.columns)\n",
    "x_cols.remove('is_fraud')\n",
    "x_cols"
   ]
  },
  {
   "cell_type": "code",
   "execution_count": 75,
   "id": "32132018",
   "metadata": {},
   "outputs": [
    {
     "name": "stdout",
     "output_type": "stream",
     "text": [
      "<class 'pandas.core.frame.DataFrame'>\n",
      "Int64Index: 3685486 entries, 909017 to 1296674\n",
      "Data columns (total 22 columns):\n",
      " #   Column                   Dtype  \n",
      "---  ------                   -----  \n",
      " 0   amt                      float64\n",
      " 1   gender                   int64  \n",
      " 2   zip                      int64  \n",
      " 3   city_pop                 int64  \n",
      " 4   latitudinal_distance     float64\n",
      " 5   longitudinal_distance    float64\n",
      " 6   age                      float64\n",
      " 7   trans_month              int64  \n",
      " 8   trans_year               int64  \n",
      " 9   category_food_dining     uint8  \n",
      " 10  category_gas_transport   uint8  \n",
      " 11  category_grocery_net     uint8  \n",
      " 12  category_grocery_pos     uint8  \n",
      " 13  category_health_fitness  uint8  \n",
      " 14  category_home            uint8  \n",
      " 15  category_kids_pets       uint8  \n",
      " 16  category_misc_net        uint8  \n",
      " 17  category_misc_pos        uint8  \n",
      " 18  category_personal_care   uint8  \n",
      " 19  category_shopping_net    uint8  \n",
      " 20  category_shopping_pos    uint8  \n",
      " 21  category_travel          uint8  \n",
      "dtypes: float64(4), int64(5), uint8(13)\n",
      "memory usage: 326.9 MB\n"
     ]
    }
   ],
   "source": [
    "X = total_upsampled[x_cols]\n",
    "Y = total_upsampled['is_fraud']\n",
    "X.info()"
   ]
  },
  {
   "cell_type": "markdown",
   "id": "0add0f26",
   "metadata": {},
   "source": [
    "# Train- test split \n",
    "\n",
    "### we devide dataset into 70% training and 30% testing"
   ]
  },
  {
   "cell_type": "code",
   "execution_count": 76,
   "id": "e444afe9",
   "metadata": {},
   "outputs": [],
   "source": [
    "X_train, X_test, Y_train, Y_test = train_test_split(\n",
    " X, Y, test_size=0.3, random_state=42)"
   ]
  },
  {
   "cell_type": "code",
   "execution_count": 77,
   "id": "333662ea",
   "metadata": {},
   "outputs": [],
   "source": [
    "#for balance data range [-3,3] to be normal distribution\n",
    "sc= StandardScaler()\n",
    "X_train_std=sc.fit_transform(X_train)\n",
    "X_test_std = sc.fit_transform(X_test)"
   ]
  },
  {
   "cell_type": "markdown",
   "id": "3d2ba6b2",
   "metadata": {},
   "source": [
    "## Modeling"
   ]
  },
  {
   "cell_type": "markdown",
   "id": "af8b0f6c",
   "metadata": {},
   "source": [
    "### Build a Decision Tree Classifier model with Scikit-Learn¶"
   ]
  },
  {
   "cell_type": "code",
   "execution_count": 79,
   "id": "28a671d8",
   "metadata": {},
   "outputs": [],
   "source": [
    "# gives importance to unrepresentive classes\n",
    "w_train=compute_sample_weight(\"balanced\",Y_train)\n",
    "from sklearn.tree import DecisionTreeClassifier"
   ]
  },
  {
   "cell_type": "code",
   "execution_count": 80,
   "id": "0d9f24d3",
   "metadata": {},
   "outputs": [
    {
     "name": "stdout",
     "output_type": "stream",
     "text": [
      "[Scikit-Learn] Training time (s):  18.49154\n"
     ]
    }
   ],
   "source": [
    "sklearn_tree=DecisionTreeClassifier(max_depth=4,min_samples_leaf=4,criterion=\"entropy\",random_state=42)\n",
    "t0=time.time()\n",
    "sklearn_tree.fit(X_train,Y_train,sample_weight=w_train)\n",
    "sklearn_time1=time.time()-t0\n",
    "print(\"[Scikit-Learn] Training time (s):  {0:.5f}\".format(sklearn_time1))"
   ]
  },
  {
   "cell_type": "code",
   "execution_count": 81,
   "id": "32411513",
   "metadata": {},
   "outputs": [
    {
     "name": "stdout",
     "output_type": "stream",
     "text": [
      "Target variable [0 1 1 0 1]\n"
     ]
    }
   ],
   "source": [
    "sklearn_tree_pred=sklearn_tree.predict(X_test)\n",
    "print(\"Target variable\",sklearn_tree_pred[0:5])"
   ]
  },
  {
   "cell_type": "code",
   "execution_count": 82,
   "id": "843c87e6",
   "metadata": {},
   "outputs": [
    {
     "name": "stdout",
     "output_type": "stream",
     "text": [
      "[Scikit-Learn] ROC-AUC score : 0.909\n"
     ]
    }
   ],
   "source": [
    "sklearn_roc_auc1 = roc_auc_score(Y_test, sklearn_tree_pred)\n",
    "print('[Scikit-Learn] ROC-AUC score : {0:.3f}'.format(sklearn_roc_auc1))"
   ]
  },
  {
   "cell_type": "code",
   "execution_count": 85,
   "id": "47160b8c",
   "metadata": {},
   "outputs": [
    {
     "name": "stdout",
     "output_type": "stream",
     "text": [
      "DecisionTrees's Accuracy:  0.9092268230518629\n"
     ]
    }
   ],
   "source": [
    "from sklearn import metrics\n",
    "acc1_sklearn=metrics.accuracy_score(Y_test, sklearn_tree_pred)\n",
    "print(\"DecisionTrees's Accuracy: \", acc1_sklearn)\n"
   ]
  },
  {
   "cell_type": "code",
   "execution_count": 90,
   "id": "0f422372",
   "metadata": {},
   "outputs": [
    {
     "data": {
      "text/plain": [
       "\"from sklearn.metrics import confusion_matrix\\n\\ncnf_matrix = confusion_matrix(Y_test, sklearn_tree_pred, labels=[1,0])\\nnp.set_printoptions(precision=2)\\n\\n\\n# Plot non-normalized confusion matrix\\nplt.figure()\\nplot_confusion_matrix(cnf_matrix, classes=['1','0'],normalize= True,  title='Confusion matrix')\""
      ]
     },
     "execution_count": 90,
     "metadata": {},
     "output_type": "execute_result"
    }
   ],
   "source": [
    "# Compute confusion matrix\n",
    "\"\"\"from sklearn.metrics import confusion_matrix\n",
    "\n",
    "cnf_matrix = confusion_matrix(Y_test, sklearn_tree_pred, labels=[1,0])\n",
    "np.set_printoptions(precision=2)\n",
    "\n",
    "\n",
    "# Plot non-normalized confusion matrix\n",
    "plt.figure()\n",
    "plot_confusion_matrix(cnf_matrix, classes=['1','0'],normalize= True,  title='Confusion matrix')\"\"\""
   ]
  },
  {
   "cell_type": "code",
   "execution_count": 91,
   "id": "53920bc9",
   "metadata": {},
   "outputs": [
    {
     "data": {
      "text/plain": [
       "[Text(0.5648148148148148, 0.9, 'X[0] <= 240.345\\nentropy = 1.0\\nsamples = 2579840\\nvalue = [1289920.0, 1289920.0]'),\n",
       " Text(0.2962962962962963, 0.7, 'X[0] <= 24.845\\nentropy = 0.73\\nsamples = 1576682\\nvalue = [1255070.243, 321605.244]'),\n",
       " Text(0.14814814814814814, 0.5, 'X[10] <= 0.5\\nentropy = 0.947\\nsamples = 727838\\nvalue = [461714.779, 266121.857]'),\n",
       " Text(0.07407407407407407, 0.3, 'X[0] <= 6.935\\nentropy = 0.829\\nsamples = 625129\\nvalue = [461605.779, 163521.141]'),\n",
       " Text(0.037037037037037035, 0.1, 'entropy = 0.246\\nsamples = 241579\\nvalue = [231734.383, 9843.069]'),\n",
       " Text(0.1111111111111111, 0.1, 'entropy = 0.971\\nsamples = 383550\\nvalue = [229871.396, 153678.072]'),\n",
       " Text(0.2222222222222222, 0.3, 'X[0] <= 21.72\\nentropy = 0.012\\nsamples = 102709\\nvalue = [108.999, 102600.716]'),\n",
       " Text(0.18518518518518517, 0.1, 'entropy = 0.003\\nsamples = 99070\\nvalue = [22.0, 99048.691]'),\n",
       " Text(0.25925925925925924, 0.1, 'entropy = 0.163\\nsamples = 3639\\nvalue = [86.999, 3552.025]'),\n",
       " Text(0.4444444444444444, 0.5, 'X[9] <= 0.5\\nentropy = 0.348\\nsamples = 848844\\nvalue = [793355.465, 55483.387]'),\n",
       " Text(0.37037037037037035, 0.3, 'X[0] <= 212.005\\nentropy = 0.227\\nsamples = 764468\\nvalue = [736446.862, 28016.195]'),\n",
       " Text(0.3333333333333333, 0.1, 'entropy = 0.169\\nsamples = 743283\\nvalue = [724669.944, 18608.13]'),\n",
       " Text(0.4074074074074074, 0.1, 'entropy = 0.991\\nsamples = 21185\\nvalue = [11776.918, 9408.066]'),\n",
       " Text(0.5185185185185185, 0.3, 'X[0] <= 92.785\\nentropy = 0.91\\nsamples = 84376\\nvalue = [56908.603, 27467.192]'),\n",
       " Text(0.48148148148148145, 0.1, 'entropy = -0.0\\nsamples = 44217\\nvalue = [44216.691, 0.0]'),\n",
       " Text(0.5555555555555556, 0.1, 'entropy = 0.9\\nsamples = 40159\\nvalue = [12691.911, 27467.192]'),\n",
       " Text(0.8333333333333334, 0.7, 'X[21] <= 0.5\\nentropy = 0.218\\nsamples = 1003158\\nvalue = [34849.757, 968314.756]'),\n",
       " Text(0.7407407407407407, 0.5, 'X[0] <= 693.505\\nentropy = 0.193\\nsamples = 997943\\nvalue = [29634.793, 968314.756]'),\n",
       " Text(0.6666666666666666, 0.3, 'X[12] <= 0.5\\nentropy = 0.328\\nsamples = 407681\\nvalue = [24468.829, 383214.674]'),\n",
       " Text(0.6296296296296297, 0.1, 'entropy = 0.759\\nsamples = 109157\\nvalue = [23918.833, 85238.595]'),\n",
       " Text(0.7037037037037037, 0.1, 'entropy = 0.019\\nsamples = 298524\\nvalue = [549.996, 297976.079]'),\n",
       " Text(0.8148148148148148, 0.3, 'X[0] <= 1376.045\\nentropy = 0.072\\nsamples = 590262\\nvalue = [5165.964, 585100.082]'),\n",
       " Text(0.7777777777777778, 0.1, 'entropy = 0.058\\nsamples = 589036\\nvalue = [3939.973, 585100.082]'),\n",
       " Text(0.8518518518518519, 0.1, 'entropy = 0.0\\nsamples = 1226\\nvalue = [1225.991, 0.0]'),\n",
       " Text(0.9259259259259259, 0.5, 'X[2] <= 1843.5\\nentropy = 0.0\\nsamples = 5215\\nvalue = [5214.964, 0.0]'),\n",
       " Text(0.8888888888888888, 0.3, 'entropy = 0.0\\nsamples = 6\\nvalue = [6.0, 0.0]'),\n",
       " Text(0.9629629629629629, 0.3, 'entropy = 0.0\\nsamples = 5209\\nvalue = [5208.964, 0.0]')]"
      ]
     },
     "execution_count": 91,
     "metadata": {},
     "output_type": "execute_result"
    },
    {
     "data": {
      "image/png": "[encoded data removed]",
      "text/plain": [
       "<Figure size 432x288 with 1 Axes>"
      ]
     },
     "metadata": {
      "needs_background": "light"
     },
     "output_type": "display_data"
    }
   ],
   "source": [
    "import sklearn.tree as tree\n",
    "tree.plot_tree(sklearn_tree)"
   ]
  },
  {
   "cell_type": "code",
   "execution_count": 92,
   "id": "b8011499",
   "metadata": {},
   "outputs": [
    {
     "name": "stdout",
     "output_type": "stream",
     "text": [
      "              precision    recall  f1-score   support\n",
      "\n",
      "           0       0.87      0.97      0.91    552814\n",
      "           1       0.96      0.85      0.90    552832\n",
      "\n",
      "    accuracy                           0.91   1105646\n",
      "   macro avg       0.91      0.91      0.91   1105646\n",
      "weighted avg       0.91      0.91      0.91   1105646\n",
      "\n"
     ]
    }
   ],
   "source": [
    "print(classification_report\n",
    "     (\n",
    "     Y_test,sklearn_tree_pred))"
   ]
  },
  {
   "cell_type": "markdown",
   "id": "878cb89f",
   "metadata": {},
   "source": [
    "## Build a Decision Tree Classifier model with Snap ML"
   ]
  },
  {
   "cell_type": "code",
   "execution_count": 93,
   "id": "77ee8e7c",
   "metadata": {},
   "outputs": [],
   "source": [
    "X_train = np.array(X_train)\n",
    "Y_train = np.array(Y_train)\n",
    "X_test=np.array(X_test)\n",
    "Y_test=np.array(Y_test)"
   ]
  },
  {
   "cell_type": "code",
   "execution_count": 94,
   "id": "334fb9db",
   "metadata": {},
   "outputs": [
    {
     "name": "stdout",
     "output_type": "stream",
     "text": [
      "[Snap ML] Training time (s):  1.63759\n"
     ]
    }
   ],
   "source": [
    "from snapml import DecisionTreeClassifier\n",
    "\n",
    "snapml_tree1=DecisionTreeClassifier(max_depth=4,random_state=45,n_jobs=4)\n",
    "t0=time.time()\n",
    "snapml_tree1.fit(X_train,Y_train)\n",
    "snapml_time1=time.time()-t0\n",
    "print(\"[Snap ML] Training time (s):  {0:.5f}\".format(snapml_time1))"
   ]
  },
  {
   "cell_type": "code",
   "execution_count": 95,
   "id": "faf25616",
   "metadata": {},
   "outputs": [
    {
     "data": {
      "text/plain": [
       "array([0, 1, 1, 0, 1], dtype=int64)"
      ]
     },
     "execution_count": 95,
     "metadata": {},
     "output_type": "execute_result"
    }
   ],
   "source": [
    "snapml_pred_tree=snapml_tree1.predict(X_test)\n",
    "snapml_pred_tree[0:5]"
   ]
  },
  {
   "cell_type": "code",
   "execution_count": 97,
   "id": "2e4a941b",
   "metadata": {},
   "outputs": [
    {
     "name": "stdout",
     "output_type": "stream",
     "text": [
      "[Snap ML] ROC-AUC score : 0.922\n"
     ]
    }
   ],
   "source": [
    "snapml_roc_auc1 = roc_auc_score(Y_test, snapml_pred_tree)   \n",
    "print('[Snap ML] ROC-AUC score : {0:.3f}'.format(snapml_roc_auc1))"
   ]
  },
  {
   "cell_type": "code",
   "execution_count": 98,
   "id": "70bacce5",
   "metadata": {},
   "outputs": [
    {
     "name": "stdout",
     "output_type": "stream",
     "text": [
      "Normalized confusion matrix\n",
      "[[0.92 0.08]\n",
      " [0.07 0.93]]\n"
     ]
    },
    {
     "data": {
      "image/png": "[encoded data removed]",
      "text/plain": [
       "<Figure size 432x288 with 2 Axes>"
      ]
     },
     "metadata": {
      "needs_background": "light"
     },
     "output_type": "display_data"
    }
   ],
   "source": [
    "# Compute confusion matrix\n",
    "cnf_matrix = confusion_matrix(Y_test, snapml_pred_tree, labels=[1,0])\n",
    "np.set_printoptions(precision=2)\n",
    "\n",
    "\n",
    "# Plot non-normalized confusion matrix\n",
    "plt.figure()\n",
    "plot_confusion_matrix(cnf_matrix, classes=['1','0'],normalize= True,  title='Confusion matrix')"
   ]
  },
  {
   "cell_type": "code",
   "execution_count": 99,
   "id": "f4b5c4c7",
   "metadata": {},
   "outputs": [
    {
     "name": "stdout",
     "output_type": "stream",
     "text": [
      "              precision    recall  f1-score   support\n",
      "\n",
      "           0       0.92      0.93      0.92    552814\n",
      "           1       0.92      0.92      0.92    552832\n",
      "\n",
      "    accuracy                           0.92   1105646\n",
      "   macro avg       0.92      0.92      0.92   1105646\n",
      "weighted avg       0.92      0.92      0.92   1105646\n",
      "\n"
     ]
    }
   ],
   "source": [
    "print(classification_report\n",
    "     (Y_test,snapml_pred_tree\n",
    "     ))"
   ]
  },
  {
   "cell_type": "markdown",
   "id": "d666650b",
   "metadata": {},
   "source": [
    "## Snap ML vs Scikit-Learn training speedup"
   ]
  },
  {
   "cell_type": "code",
   "execution_count": 100,
   "id": "0afe0cb9",
   "metadata": {},
   "outputs": [
    {
     "name": "stdout",
     "output_type": "stream",
     "text": [
      "[Decision Tree Classifier] Snap ML vs. Scikit-Learn speedup : 11.29x \n"
     ]
    }
   ],
   "source": [
    "training_speedup = sklearn_time1/snapml_time1\n",
    "print('[Decision Tree Classifier] Snap ML vs. Scikit-Learn speedup : {0:.2f}x '.format(training_speedup))"
   ]
  },
  {
   "cell_type": "markdown",
   "id": "1a4e8685",
   "metadata": {},
   "source": [
    "## Build a Support Vector Machine model with Scikit-Learn"
   ]
  },
  {
   "cell_type": "code",
   "execution_count": 101,
   "id": "f20ac0c9",
   "metadata": {},
   "outputs": [
    {
     "name": "stdout",
     "output_type": "stream",
     "text": [
      "[Scikit-Learn] Training time (s):  1036.33\n"
     ]
    }
   ],
   "source": [
    "from sklearn.svm import LinearSVC\n",
    "\n",
    "sklearn_sv=LinearSVC(class_weight=\"balanced\",random_state=30,loss=\"squared_hinge\",fit_intercept=False)\n",
    "t0 = time.time()\n",
    "sklearn_sv.fit(X_train, Y_train)\n",
    "sklearn_time2 = time.time() - t0\n",
    "print(\"[Scikit-Learn] Training time (s):  {0:.2f}\".format(sklearn_time2))"
   ]
  },
  {
   "cell_type": "code",
   "execution_count": 102,
   "id": "27dc1181",
   "metadata": {},
   "outputs": [
    {
     "data": {
      "text/plain": [
       "array([0, 1, 1, 1, 1], dtype=int64)"
      ]
     },
     "execution_count": 102,
     "metadata": {},
     "output_type": "execute_result"
    }
   ],
   "source": [
    "sklearn_svm_pred=sklearn_sv.predict(X_test)\n",
    "sklearn_svm_pred[0:5]"
   ]
  },
  {
   "cell_type": "code",
   "execution_count": 103,
   "id": "b2c6a408",
   "metadata": {},
   "outputs": [
    {
     "name": "stdout",
     "output_type": "stream",
     "text": [
      "[Scikit-Learn] ROC-AUC score:   0.606\n"
     ]
    }
   ],
   "source": [
    "acc_sklearn2  = roc_auc_score(Y_test, sklearn_svm_pred)\n",
    "print(\"[Scikit-Learn] ROC-AUC score:   {0:.3f}\".format(acc_sklearn2))\n"
   ]
  },
  {
   "cell_type": "code",
   "execution_count": 104,
   "id": "61f33e8e",
   "metadata": {},
   "outputs": [
    {
     "name": "stdout",
     "output_type": "stream",
     "text": [
      "SVM's Accuracy:  0.6060484097079897\n"
     ]
    }
   ],
   "source": [
    "acc2_sklearn=metrics.accuracy_score(Y_test, sklearn_svm_pred)\n",
    "print(\"SVM's Accuracy: \", acc2_sklearn)\n"
   ]
  },
  {
   "cell_type": "code",
   "execution_count": 85,
   "id": "9f8013a6",
   "metadata": {},
   "outputs": [
    {
     "data": {
      "text/plain": [
       "0.6803113428771692"
      ]
     },
     "execution_count": 85,
     "metadata": {},
     "output_type": "execute_result"
    }
   ],
   "source": [
    "from sklearn.metrics import f1_score\n",
    "f1_score(Y_test, sklearn_svm_pred) "
   ]
  },
  {
   "cell_type": "code",
   "execution_count": 86,
   "id": "4e7ec5c2",
   "metadata": {},
   "outputs": [
    {
     "name": "stdout",
     "output_type": "stream",
     "text": [
      "Normalized confusion matrix\n",
      "[[0.84 0.16]\n",
      " [0.63 0.37]]\n"
     ]
    },
    {
     "data": {
      "image/png": "[encoded data removed]",
      "text/plain": [
       "<Figure size 432x288 with 2 Axes>"
      ]
     },
     "metadata": {
      "needs_background": "light"
     },
     "output_type": "display_data"
    }
   ],
   "source": [
    "# Compute confusion matrix\n",
    "cnf_matrix = confusion_matrix(Y_test, sklearn_svm_pred, labels=[1,0])\n",
    "np.set_printoptions(precision=2)\n",
    "\n",
    "\n",
    "# Plot non-normalized confusion matrix\n",
    "plt.figure()\n",
    "plot_confusion_matrix(cnf_matrix, classes=['1','0'],normalize= True,  title='Confusion matrix')"
   ]
  },
  {
   "cell_type": "code",
   "execution_count": 87,
   "id": "4f72b4ba",
   "metadata": {},
   "outputs": [
    {
     "name": "stdout",
     "output_type": "stream",
     "text": [
      "              precision    recall  f1-score   support\n",
      "\n",
      "           0       0.70      0.37      0.49    552814\n",
      "           1       0.57      0.84      0.68    552832\n",
      "\n",
      "    accuracy                           0.61   1105646\n",
      "   macro avg       0.64      0.61      0.58   1105646\n",
      "weighted avg       0.64      0.61      0.58   1105646\n",
      "\n"
     ]
    }
   ],
   "source": [
    "print(classification_report\n",
    "     (Y_test,sklearn_svm_pred\n",
    "     ))"
   ]
  },
  {
   "cell_type": "markdown",
   "id": "3159150c",
   "metadata": {},
   "source": [
    "## Build a Support Vector Machine with Snap ML"
   ]
  },
  {
   "cell_type": "code",
   "execution_count": 88,
   "id": "ea0fc416",
   "metadata": {},
   "outputs": [
    {
     "name": "stdout",
     "output_type": "stream",
     "text": [
      "[Snap ML] Training time (s):  12306.19\n"
     ]
    }
   ],
   "source": [
    "from snapml import SupportVectorMachine\n",
    "\n",
    "snapml_sv=SupportVectorMachine(class_weight=\"balanced\",random_state=30,n_jobs=4,fit_intercept=False)\n",
    "#print(snapml_sv.get_params())\n",
    "\n",
    "t0 = time.time()\n",
    "model = snapml_sv.fit(X_train, Y_train)\n",
    "snapml_time = time.time() - t0\n",
    "print(\"[Snap ML] Training time (s):  {0:.2f}\".format(snapml_time))"
   ]
  },
  {
   "cell_type": "code",
   "execution_count": 106,
   "id": "f97c8fa9",
   "metadata": {
    "collapsed": true
   },
   "outputs": [
    {
     "ename": "NameError",
     "evalue": "name 'snapml_sv' is not defined",
     "output_type": "error",
     "traceback": [
      "\u001b[1;31m---------------------------------------------------------------------------\u001b[0m",
      "\u001b[1;31mNameError\u001b[0m                                 Traceback (most recent call last)",
      "Input \u001b[1;32mIn [106]\u001b[0m, in \u001b[0;36m<cell line: 1>\u001b[1;34m()\u001b[0m\n\u001b[1;32m----> 1\u001b[0m snapml_pred2\u001b[38;5;241m=\u001b[39m\u001b[43msnapml_sv\u001b[49m\u001b[38;5;241m.\u001b[39mdecision_function(X_test)\n\u001b[0;32m      2\u001b[0m acc_snapml2  \u001b[38;5;241m=\u001b[39m roc_auc_score(Y_test, snapml_pred2)\n\u001b[0;32m      3\u001b[0m \u001b[38;5;28mprint\u001b[39m(\u001b[38;5;124m\"\u001b[39m\u001b[38;5;124m[Snap ML] ROC-AUC score:   \u001b[39m\u001b[38;5;132;01m{0:.3f}\u001b[39;00m\u001b[38;5;124m\"\u001b[39m\u001b[38;5;241m.\u001b[39mformat(acc_snapml2))\n",
      "\u001b[1;31mNameError\u001b[0m: name 'snapml_sv' is not defined"
     ]
    }
   ],
   "source": [
    "snapml_pred2=snapml_sv.decision_function(X_test)\n",
    "acc_snapml2  = roc_auc_score(Y_test, snapml_pred2)\n",
    "print(\"[Snap ML] ROC-AUC score:   {0:.3f}\".format(acc_snapml2))"
   ]
  },
  {
   "cell_type": "code",
   "execution_count": 107,
   "id": "29e70330",
   "metadata": {
    "collapsed": true
   },
   "outputs": [
    {
     "ename": "NameError",
     "evalue": "name 'snapml_time' is not defined",
     "output_type": "error",
     "traceback": [
      "\u001b[1;31m---------------------------------------------------------------------------\u001b[0m",
      "\u001b[1;31mNameError\u001b[0m                                 Traceback (most recent call last)",
      "Input \u001b[1;32mIn [107]\u001b[0m, in \u001b[0;36m<cell line: 1>\u001b[1;34m()\u001b[0m\n\u001b[1;32m----> 1\u001b[0m training_speedup \u001b[38;5;241m=\u001b[39m sklearn_time2\u001b[38;5;241m/\u001b[39m\u001b[43msnapml_time\u001b[49m\n\u001b[0;32m      2\u001b[0m \u001b[38;5;28mprint\u001b[39m(\u001b[38;5;124m'\u001b[39m\u001b[38;5;124m[Support Vector Machine] Snap ML vs. Scikit-Learn training speedup : \u001b[39m\u001b[38;5;132;01m{0:.2f}\u001b[39;00m\u001b[38;5;124mx \u001b[39m\u001b[38;5;124m'\u001b[39m\u001b[38;5;241m.\u001b[39mformat(training_speedup))\n",
      "\u001b[1;31mNameError\u001b[0m: name 'snapml_time' is not defined"
     ]
    }
   ],
   "source": [
    "training_speedup = sklearn_time2/snapml_time\n",
    "print('[Support Vector Machine] Snap ML vs. Scikit-Learn training speedup : {0:.2f}x '.format(training_speedup))\n"
   ]
  },
  {
   "cell_type": "markdown",
   "id": "f0d30d38",
   "metadata": {},
   "source": [
    "## Evaluate Logistic regression using the Scikit-Learn"
   ]
  },
  {
   "cell_type": "code",
   "execution_count": 108,
   "id": "041bbb15",
   "metadata": {},
   "outputs": [],
   "source": [
    "from sklearn.linear_model import LogisticRegression\n",
    "from sklearn.metrics import confusion_matrix"
   ]
  },
  {
   "cell_type": "code",
   "execution_count": 109,
   "id": "1e30f2b1",
   "metadata": {},
   "outputs": [
    {
     "name": "stdout",
     "output_type": "stream",
     "text": [
      "[Snap ML] Training time (s):  355.72906\n"
     ]
    }
   ],
   "source": [
    "sklearn_logis=LogisticRegression(C=0.001,solver=\"saga\")\n",
    "t0=time.time()\n",
    "sklearn_logis.fit(X_train,Y_train)\n",
    "sklearn_time=time.time()-t0\n",
    "print(\"[Snap ML] Training time (s):  {0:.5f}\".format(sklearn_time))"
   ]
  },
  {
   "cell_type": "code",
   "execution_count": 110,
   "id": "29aa0ae1",
   "metadata": {},
   "outputs": [
    {
     "data": {
      "text/plain": [
       "array([0, 1, 1, 0, 1], dtype=int64)"
      ]
     },
     "execution_count": 110,
     "metadata": {},
     "output_type": "execute_result"
    }
   ],
   "source": [
    "sklearn_logis_pred=sklearn_logis.predict(X_test)\n",
    "sklearn_logis_pred[0:5]"
   ]
  },
  {
   "cell_type": "code",
   "execution_count": 111,
   "id": "a9df0df2",
   "metadata": {},
   "outputs": [
    {
     "name": "stdout",
     "output_type": "stream",
     "text": [
      "Logistic's Accuracy:  0.8573765925079094\n"
     ]
    }
   ],
   "source": [
    "acc3_sklearn=metrics.accuracy_score(Y_test, sklearn_logis_pred)\n",
    "print(\"Logistic's Accuracy: \",acc3_sklearn)\n"
   ]
  },
  {
   "cell_type": "code",
   "execution_count": 112,
   "id": "a7310a76",
   "metadata": {},
   "outputs": [
    {
     "name": "stdout",
     "output_type": "stream",
     "text": [
      "[Scikit-Learn] ROC-AUC score : 0.857\n"
     ]
    }
   ],
   "source": [
    "sklearn_roc_auc3 = roc_auc_score(Y_test, sklearn_logis_pred)\n",
    "print('[Scikit-Learn] ROC-AUC score : {0:.3f}'.format(sklearn_roc_auc3))"
   ]
  },
  {
   "cell_type": "code",
   "execution_count": 113,
   "id": "ec156b19",
   "metadata": {},
   "outputs": [
    {
     "data": {
      "text/plain": [
       "0.8382867052189099"
      ]
     },
     "execution_count": 113,
     "metadata": {},
     "output_type": "execute_result"
    }
   ],
   "source": [
    "from sklearn.metrics import f1_score\n",
    "f1_score(Y_test, sklearn_logis_pred) "
   ]
  },
  {
   "cell_type": "code",
   "execution_count": 114,
   "id": "04ee37bd",
   "metadata": {},
   "outputs": [
    {
     "data": {
      "text/plain": [
       "0.773734159052298"
      ]
     },
     "execution_count": 114,
     "metadata": {},
     "output_type": "execute_result"
    }
   ],
   "source": [
    "from sklearn.metrics import jaccard_score\n",
    "jaccard_score(Y_test,sklearn_logis_pred ,pos_label=0)"
   ]
  },
  {
   "cell_type": "code",
   "execution_count": 115,
   "id": "5dbcc33a",
   "metadata": {},
   "outputs": [
    {
     "data": {
      "text/plain": [
       "0.721595172393094"
      ]
     },
     "execution_count": 115,
     "metadata": {},
     "output_type": "execute_result"
    }
   ],
   "source": [
    "from sklearn.metrics import jaccard_score\n",
    "jaccard_score(Y_test,sklearn_logis_pred ,pos_label=1)"
   ]
  },
  {
   "cell_type": "code",
   "execution_count": 116,
   "id": "903b36a0",
   "metadata": {},
   "outputs": [
    {
     "name": "stdout",
     "output_type": "stream",
     "text": [
      "Normalized confusion matrix\n",
      "[[0.74 0.26]\n",
      " [0.02 0.98]]\n"
     ]
    },
    {
     "data": {
      "image/png": "[encoded data removed]",
      "text/plain": [
       "<Figure size 432x288 with 2 Axes>"
      ]
     },
     "metadata": {
      "needs_background": "light"
     },
     "output_type": "display_data"
    }
   ],
   "source": [
    "# Compute confusion matrix\n",
    "cnf_matrix = confusion_matrix(Y_test, sklearn_logis_pred, labels=[1,0])\n",
    "np.set_printoptions(precision=2)\n",
    "\n",
    "\n",
    "# Plot non-normalized confusion matrix\n",
    "plt.figure()\n",
    "plot_confusion_matrix(cnf_matrix, classes=['1','0'],normalize= True,  title='Confusion matrix')"
   ]
  },
  {
   "cell_type": "code",
   "execution_count": 117,
   "id": "a07bebbe",
   "metadata": {},
   "outputs": [
    {
     "name": "stdout",
     "output_type": "stream",
     "text": [
      "              precision    recall  f1-score   support\n",
      "\n",
      "           0       0.79      0.98      0.87    552814\n",
      "           1       0.97      0.74      0.84    552832\n",
      "\n",
      "    accuracy                           0.86   1105646\n",
      "   macro avg       0.88      0.86      0.86   1105646\n",
      "weighted avg       0.88      0.86      0.86   1105646\n",
      "\n"
     ]
    }
   ],
   "source": [
    "print (classification_report(Y_test,sklearn_logis_pred ))\n"
   ]
  },
  {
   "cell_type": "markdown",
   "id": "6e36829b",
   "metadata": {},
   "source": [
    "## Evalute Logistic regression using snapml¶"
   ]
  },
  {
   "cell_type": "code",
   "execution_count": 118,
   "id": "1fcb6e4b",
   "metadata": {},
   "outputs": [],
   "source": [
    "from snapml import LogisticRegression\n"
   ]
  },
  {
   "cell_type": "code",
   "execution_count": 119,
   "id": "49c25e18",
   "metadata": {},
   "outputs": [
    {
     "name": "stdout",
     "output_type": "stream",
     "text": [
      "[Snap ML] Training time (s):  19.80\n"
     ]
    }
   ],
   "source": [
    "snapml_logis=LogisticRegression(penalty='l2',random_state=31)\n",
    "t0 = time.time()\n",
    "model = snapml_logis.fit(X_train, Y_train)\n",
    "snapml_time = time.time() - t0\n",
    "print(\"[Snap ML] Training time (s):  {0:.2f}\".format(snapml_time))"
   ]
  },
  {
   "cell_type": "code",
   "execution_count": 120,
   "id": "385a76b4",
   "metadata": {},
   "outputs": [
    {
     "data": {
      "text/plain": [
       "array([1, 1, 1, 1, 1], dtype=int64)"
      ]
     },
     "execution_count": 120,
     "metadata": {},
     "output_type": "execute_result"
    }
   ],
   "source": [
    "snapml_pred3=snapml_logis.predict(X_test)\n",
    "snapml_pred3[0:5]"
   ]
  },
  {
   "cell_type": "code",
   "execution_count": 121,
   "id": "0ad7b8eb",
   "metadata": {},
   "outputs": [
    {
     "name": "stdout",
     "output_type": "stream",
     "text": [
      "[Snap ML] ROC-AUC score:   0.551\n"
     ]
    }
   ],
   "source": [
    "acc_snapml3  = roc_auc_score(Y_test, snapml_pred3)\n",
    "print(\"[Snap ML] ROC-AUC score:   {0:.3f}\".format(acc_snapml3))"
   ]
  },
  {
   "cell_type": "markdown",
   "id": "47baafed",
   "metadata": {},
   "source": [
    "# Evaluate Neural Network"
   ]
  },
  {
   "cell_type": "code",
   "execution_count": 124,
   "id": "ee73be97",
   "metadata": {},
   "outputs": [
    {
     "name": "stdout",
     "output_type": "stream",
     "text": [
      "Model: \"sequential_1\"\n",
      "_________________________________________________________________\n",
      " Layer (type)                Output Shape              Param #   \n",
      "=================================================================\n",
      " dense_6 (Dense)             (None, 128)               2944      \n",
      "                                                                 \n",
      " dense_7 (Dense)             (None, 64)                8256      \n",
      "                                                                 \n",
      " dense_8 (Dense)             (None, 64)                4160      \n",
      "                                                                 \n",
      " dense_9 (Dense)             (None, 32)                2080      \n",
      "                                                                 \n",
      " dense_10 (Dense)            (None, 32)                1056      \n",
      "                                                                 \n",
      " dense_11 (Dense)            (None, 1)                 33        \n",
      "                                                                 \n",
      "=================================================================\n",
      "Total params: 18,529\n",
      "Trainable params: 18,529\n",
      "Non-trainable params: 0\n",
      "_________________________________________________________________\n"
     ]
    }
   ],
   "source": [
    "import tensorflow as tf\n",
    "from tensorflow import keras\n",
    "from tensorflow.keras import layers\n",
    "\n",
    "# Define the model\n",
    "model = keras.Sequential()\n",
    "\n",
    "# Input layer\n",
    "model.add(layers.Input(shape=(22,)))\n",
    "\n",
    "# Hidden layers with regularization (adjust the number of units and regularization strength)\n",
    "model.add(layers.Dense(128, activation='relu', kernel_regularizer=tf.keras.regularizers.L2(0.01)))\n",
    "model.add(layers.Dense(64, activation='relu', kernel_regularizer=tf.keras.regularizers.L2(0.01)))\n",
    "model.add(layers.Dense(64, activation='relu', kernel_regularizer=tf.keras.regularizers.L2(0.01)))\n",
    "model.add(layers.Dense(32, activation='relu', kernel_regularizer=tf.keras.regularizers.L2(0.01)))\n",
    "model.add(layers.Dense(32, activation='relu', kernel_regularizer=tf.keras.regularizers.L2(0.01)))\n",
    "\n",
    "# Output layer\n",
    "model.add(layers.Dense(1, activation='sigmoid'))  #  we use sigmoid function ,Assuming binary classification , \n",
    "                                                   #where sigmoid predict the probability of each class\n",
    "\n",
    "# Compile the model\n",
    "model.compile(optimizer='adam', loss='binary_crossentropy', metrics=['accuracy'])\n",
    "\n",
    "# Display model summary\n",
    "model.summary()\n"
   ]
  },
  {
   "cell_type": "code",
   "execution_count": 125,
   "id": "475f849d",
   "metadata": {},
   "outputs": [
    {
     "name": "stdout",
     "output_type": "stream",
     "text": [
      "Epoch 1/5\n",
      "20155/20155 [==============================] - 144s 7ms/step - loss: 2.4661 - accuracy: 0.7595\n",
      "Epoch 2/5\n",
      "20155/20155 [==============================] - 137s 7ms/step - loss: 0.4787 - accuracy: 0.8024\n",
      "Epoch 3/5\n",
      "20155/20155 [==============================] - 132s 7ms/step - loss: 0.4590 - accuracy: 0.8184\n",
      "Epoch 4/5\n",
      "20155/20155 [==============================] - 140s 7ms/step - loss: 0.4531 - accuracy: 0.8186\n",
      "Epoch 5/5\n",
      "20155/20155 [==============================] - 142s 7ms/step - loss: 0.4555 - accuracy: 0.8156\n"
     ]
    },
    {
     "data": {
      "text/plain": [
       "<keras.callbacks.History at 0x27c032b5700>"
      ]
     },
     "execution_count": 125,
     "metadata": {},
     "output_type": "execute_result"
    }
   ],
   "source": [
    "# Train the model\n",
    "model.fit(X_train, Y_train, epochs=5, batch_size=128)"
   ]
  },
  {
   "cell_type": "code",
   "execution_count": 126,
   "id": "ba16d65d",
   "metadata": {},
   "outputs": [
    {
     "name": "stdout",
     "output_type": "stream",
     "text": [
      "34552/34552 [==============================] - 153s 4ms/step - loss: 0.4801 - accuracy: 0.7942\n",
      "Test Accuracy: 0.7941963076591492\n"
     ]
    }
   ],
   "source": [
    "# Evaluate the model\n",
    "test_loss, test_accuracy = model.evaluate(X_test, Y_test)\n",
    "print(\"Test Accuracy:\", test_accuracy)"
   ]
  },
  {
   "cell_type": "code",
   "execution_count": 127,
   "id": "4c3825a0",
   "metadata": {},
   "outputs": [
    {
     "name": "stdout",
     "output_type": "stream",
     "text": [
      "34552/34552 [==============================] - 167s 5ms/step\n"
     ]
    },
    {
     "data": {
      "text/plain": [
       "array([[0.29],\n",
       "       [0.95],\n",
       "       [0.77],\n",
       "       [0.29],\n",
       "       [0.95]], dtype=float32)"
      ]
     },
     "execution_count": 127,
     "metadata": {},
     "output_type": "execute_result"
    }
   ],
   "source": [
    "y_pred =model.predict(X_test)\n",
    "y_pred[0:5]"
   ]
  },
  {
   "cell_type": "code",
   "execution_count": 128,
   "id": "ffc528fd",
   "metadata": {},
   "outputs": [
    {
     "data": {
      "text/plain": [
       "array([[0],\n",
       "       [1],\n",
       "       [1],\n",
       "       [0],\n",
       "       [1]])"
      ]
     },
     "execution_count": 128,
     "metadata": {},
     "output_type": "execute_result"
    }
   ],
   "source": [
    "y_pred_binary = (y_pred > 0.5).astype(int)\n",
    "y_pred_binary[0:5]"
   ]
  },
  {
   "cell_type": "markdown",
   "id": "0c7de9a3",
   "metadata": {},
   "source": [
    "## Model comparisom"
   ]
  },
  {
   "cell_type": "code",
   "execution_count": 130,
   "id": "c5ab319c",
   "metadata": {},
   "outputs": [
    {
     "data": {
      "image/png": "[encoded data removed]",
      "text/plain": [
       "<Figure size 432x288 with 1 Axes>"
      ]
     },
     "metadata": {
      "needs_background": "light"
     },
     "output_type": "display_data"
    },
    {
     "name": "stdout",
     "output_type": "stream",
     "text": [
      "\n",
      "\n",
      "Accuracy of Decision Tree: 0.91\n",
      "\n",
      "Accuracy of SVM: 0.61\n",
      "\n",
      "Accuracy of Logistic regression: 0.86\n",
      "\n",
      "Maximum Accuracy: 0.91\n",
      "Model with Maximum Accuracy: Decision Tree\n"
     ]
    }
   ],
   "source": [
    "# using sklearn \n",
    "\n",
    "models=[\"Decision Tree\",\"SVM\",\"Logistic\",\"ANN\"]\n",
    "\n",
    "acc=[acc1_sklearn,acc2_sklearn,acc3_sklearn,test_accuracy]\n",
    "\n",
    "plt.bar(models, acc, color=['orange', 'cyan','pink',\"purple\"])\n",
    "plt.title('Model Comparison')\n",
    "plt.ylabel('Accuracy')\n",
    "plt.show()\n",
    "\n",
    "max_accuracy = max(acc)\n",
    "max_index = acc.index(max_accuracy)\n",
    "max_model = models[max_index]\n",
    "print(f'\\n\\nAccuracy of Decision Tree: {acc1_sklearn:.2f}\\n')\n",
    "print(f'Accuracy of SVM: {acc2_sklearn:.2f}\\n')\n",
    "print(f'Accuracy of Logistic regression: {acc3_sklearn:.2f}\\n')\n",
    "print(f'Maximum Accuracy: {max_accuracy:.2f}')\n",
    "print(f'Model with Maximum Accuracy: {max_model}')"
   ]
  },
  {
   "cell_type": "code",
   "execution_count": null,
   "id": "48dabd1c",
   "metadata": {},
   "outputs": [],
   "source": []
  }
 ],
 "metadata": {
  "kernelspec": {
   "display_name": "Python 3 (ipykernel)",
   "language": "python",
   "name": "python3"
  },
  "language_info": {
   "codemirror_mode": {
    "name": "ipython",
    "version": 3
   },
   "file_extension": ".py",
   "mimetype": "text/x-python",
   "name": "python",
   "nbconvert_exporter": "python",
   "pygments_lexer": "ipython3",
   "version": "3.9.12"
  }
 },
 "nbformat": 4,
 "nbformat_minor": 5
}
